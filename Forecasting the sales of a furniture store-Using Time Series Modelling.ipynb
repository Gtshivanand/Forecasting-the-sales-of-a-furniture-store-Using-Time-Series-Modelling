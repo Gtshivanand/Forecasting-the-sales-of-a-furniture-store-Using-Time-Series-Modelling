{
 "cells": [
  {
   "cell_type": "markdown",
   "metadata": {},
   "source": [
    "# Forecasting the Sales of a Furniture store\n",
    "We are using Superstore sales data for furniture sales between 2014 to 2017 and apply a simple model to forecast for 2018"
   ]
  },
  {
   "cell_type": "markdown",
   "metadata": {},
   "source": [
    "## Content\n",
    "\n",
    "1. **[Import packages](#import_packages)**\n",
    "2. **[Load data](#load_data)**\n",
    "3. **[Data preparation](#data_preparation)**\n",
    "    - 3.1 - [Dimensions of Dataset](#data_dimension)\n",
    "    - 3.2 - [Statistical Summary](#Stat_sum)\n",
    "    - 3.3 - [Checking Data Type and Missing Values](#check_data_type)\n",
    "    - 3.4 - [Indexing with Date](#Indexing_with_Date)\n",
    "4. **[Time Series Analysis](#Time_Series_Analysis)**\n",
    "    - 4.1 - [Visualizing data](#Visualizing_data)\n",
    "    - 4.2 - [Sampling](#Sampling)\n",
    "    - 4.3 - [Checking Stationarity](#Checking_Stationarity)\n",
    "    - 4.4 - [Decomposing](#Decomposing)\n",
    "5. **[Time Series Forcasting using ARIMA](#Time_Series_Forcasting_using_ARIMA)**\n",
    "    - 5.1 - [Parameter Selection](#Parameter_Selection)\n",
    "    - 5.2 - [Fitting the ARIMA model](#Fitting_the_ARIMA)\n",
    "    - 5.3 - [Validating Forecasts](#Validating_Forecasts)\n",
    "    - 5.4 - [Calculating MSE and RMSE](#Calculating_MSE_and_RMSE)\n",
    "    - 5.5 - [Visualizing the Forecast](#Visualizing_the_Forecast)\n",
    "6. **[Conclusion](#Conclusion)**"
   ]
  },
  {
   "cell_type": "markdown",
   "metadata": {},
   "source": [
    "# 1. Import Packages"
   ]
  },
  {
   "cell_type": "code",
   "execution_count": 6,
   "metadata": {},
   "outputs": [],
   "source": [
    "import warnings\n",
    "warnings.filterwarnings(\"ignore\")\n",
    "import itertools\n",
    "import numpy as np\n",
    "import matplotlib.pyplot as plt\n",
    "plt.style.use('fivethirtyeight')\n",
    "import pandas as pd\n",
    "import statsmodels.api as sm\n",
    "import matplotlib\n",
    "matplotlib.rcParams['axes.labelsize'] = 14\n",
    "matplotlib.rcParams['xtick.labelsize'] = 12\n",
    "matplotlib.rcParams['ytick.labelsize'] = 12\n",
    "matplotlib.rcParams['text.color'] = 'k'\n",
    "import sys\n",
    "import types "
   ]
  },
  {
   "cell_type": "markdown",
   "metadata": {},
   "source": [
    "# 2. Load Data"
   ]
  },
  {
   "cell_type": "code",
   "execution_count": 7,
   "metadata": {
    "colab": {},
    "colab_type": "code",
    "id": "ubnEmstc2fF1",
    "outputId": "0999c414-0a51-4e7d-c7f7-6533dd19c80e"
   },
   "outputs": [],
   "source": [
    "furniture = pd.read_csv(\"Super_Store.csv\", encoding='cp1252')"
   ]
  },
  {
   "cell_type": "code",
   "execution_count": 8,
   "metadata": {},
   "outputs": [
    {
     "data": {
      "text/html": [
       "<div>\n",
       "<style scoped>\n",
       "    .dataframe tbody tr th:only-of-type {\n",
       "        vertical-align: middle;\n",
       "    }\n",
       "\n",
       "    .dataframe tbody tr th {\n",
       "        vertical-align: top;\n",
       "    }\n",
       "\n",
       "    .dataframe thead th {\n",
       "        text-align: right;\n",
       "    }\n",
       "</style>\n",
       "<table border=\"1\" class=\"dataframe\">\n",
       "  <thead>\n",
       "    <tr style=\"text-align: right;\">\n",
       "      <th></th>\n",
       "      <th>Row ID</th>\n",
       "      <th>Order ID</th>\n",
       "      <th>Order Date</th>\n",
       "      <th>Ship Date</th>\n",
       "      <th>Ship Mode</th>\n",
       "      <th>Customer ID</th>\n",
       "      <th>Customer Name</th>\n",
       "      <th>Segment</th>\n",
       "      <th>Country</th>\n",
       "      <th>City</th>\n",
       "      <th>...</th>\n",
       "      <th>Postal Code</th>\n",
       "      <th>Region</th>\n",
       "      <th>Product ID</th>\n",
       "      <th>Category</th>\n",
       "      <th>Sub-Category</th>\n",
       "      <th>Product Name</th>\n",
       "      <th>Sales</th>\n",
       "      <th>Quantity</th>\n",
       "      <th>Discount</th>\n",
       "      <th>Profit</th>\n",
       "    </tr>\n",
       "  </thead>\n",
       "  <tbody>\n",
       "    <tr>\n",
       "      <th>0</th>\n",
       "      <td>1</td>\n",
       "      <td>CA-2016-152156</td>\n",
       "      <td>11/8/2016</td>\n",
       "      <td>11/11/2016</td>\n",
       "      <td>Second Class</td>\n",
       "      <td>CG-12520</td>\n",
       "      <td>Claire Gute</td>\n",
       "      <td>Consumer</td>\n",
       "      <td>United States</td>\n",
       "      <td>Henderson</td>\n",
       "      <td>...</td>\n",
       "      <td>42420</td>\n",
       "      <td>South</td>\n",
       "      <td>FUR-BO-10001798</td>\n",
       "      <td>Furniture</td>\n",
       "      <td>Bookcases</td>\n",
       "      <td>Bush Somerset Collection Bookcase</td>\n",
       "      <td>261.9600</td>\n",
       "      <td>2</td>\n",
       "      <td>0.00</td>\n",
       "      <td>41.9136</td>\n",
       "    </tr>\n",
       "    <tr>\n",
       "      <th>1</th>\n",
       "      <td>2</td>\n",
       "      <td>CA-2016-152156</td>\n",
       "      <td>11/8/2016</td>\n",
       "      <td>11/11/2016</td>\n",
       "      <td>Second Class</td>\n",
       "      <td>CG-12520</td>\n",
       "      <td>Claire Gute</td>\n",
       "      <td>Consumer</td>\n",
       "      <td>United States</td>\n",
       "      <td>Henderson</td>\n",
       "      <td>...</td>\n",
       "      <td>42420</td>\n",
       "      <td>South</td>\n",
       "      <td>FUR-CH-10000454</td>\n",
       "      <td>Furniture</td>\n",
       "      <td>Chairs</td>\n",
       "      <td>Hon Deluxe Fabric Upholstered Stacking Chairs,...</td>\n",
       "      <td>731.9400</td>\n",
       "      <td>3</td>\n",
       "      <td>0.00</td>\n",
       "      <td>219.5820</td>\n",
       "    </tr>\n",
       "    <tr>\n",
       "      <th>2</th>\n",
       "      <td>4</td>\n",
       "      <td>US-2015-108966</td>\n",
       "      <td>10/11/2015</td>\n",
       "      <td>10/18/2015</td>\n",
       "      <td>Standard Class</td>\n",
       "      <td>SO-20335</td>\n",
       "      <td>Sean O'Donnell</td>\n",
       "      <td>Consumer</td>\n",
       "      <td>United States</td>\n",
       "      <td>Fort Lauderdale</td>\n",
       "      <td>...</td>\n",
       "      <td>33311</td>\n",
       "      <td>South</td>\n",
       "      <td>FUR-TA-10000577</td>\n",
       "      <td>Furniture</td>\n",
       "      <td>Tables</td>\n",
       "      <td>Bretford CR4500 Series Slim Rectangular Table</td>\n",
       "      <td>957.5775</td>\n",
       "      <td>5</td>\n",
       "      <td>0.45</td>\n",
       "      <td>-383.0310</td>\n",
       "    </tr>\n",
       "    <tr>\n",
       "      <th>3</th>\n",
       "      <td>6</td>\n",
       "      <td>CA-2014-115812</td>\n",
       "      <td>6/9/2014</td>\n",
       "      <td>6/14/2014</td>\n",
       "      <td>Standard Class</td>\n",
       "      <td>BH-11710</td>\n",
       "      <td>Brosina Hoffman</td>\n",
       "      <td>Consumer</td>\n",
       "      <td>United States</td>\n",
       "      <td>Los Angeles</td>\n",
       "      <td>...</td>\n",
       "      <td>90032</td>\n",
       "      <td>West</td>\n",
       "      <td>FUR-FU-10001487</td>\n",
       "      <td>Furniture</td>\n",
       "      <td>Furnishings</td>\n",
       "      <td>Eldon Expressions Wood and Plastic Desk Access...</td>\n",
       "      <td>48.8600</td>\n",
       "      <td>7</td>\n",
       "      <td>0.00</td>\n",
       "      <td>14.1694</td>\n",
       "    </tr>\n",
       "    <tr>\n",
       "      <th>4</th>\n",
       "      <td>11</td>\n",
       "      <td>CA-2014-115812</td>\n",
       "      <td>6/9/2014</td>\n",
       "      <td>6/14/2014</td>\n",
       "      <td>Standard Class</td>\n",
       "      <td>BH-11710</td>\n",
       "      <td>Brosina Hoffman</td>\n",
       "      <td>Consumer</td>\n",
       "      <td>United States</td>\n",
       "      <td>Los Angeles</td>\n",
       "      <td>...</td>\n",
       "      <td>90032</td>\n",
       "      <td>West</td>\n",
       "      <td>FUR-TA-10001539</td>\n",
       "      <td>Furniture</td>\n",
       "      <td>Tables</td>\n",
       "      <td>Chromcraft Rectangular Conference Tables</td>\n",
       "      <td>1706.1840</td>\n",
       "      <td>9</td>\n",
       "      <td>0.20</td>\n",
       "      <td>85.3092</td>\n",
       "    </tr>\n",
       "  </tbody>\n",
       "</table>\n",
       "<p>5 rows × 21 columns</p>\n",
       "</div>"
      ],
      "text/plain": [
       "   Row ID        Order ID  Order Date   Ship Date       Ship Mode Customer ID  \\\n",
       "0       1  CA-2016-152156   11/8/2016  11/11/2016    Second Class    CG-12520   \n",
       "1       2  CA-2016-152156   11/8/2016  11/11/2016    Second Class    CG-12520   \n",
       "2       4  US-2015-108966  10/11/2015  10/18/2015  Standard Class    SO-20335   \n",
       "3       6  CA-2014-115812    6/9/2014   6/14/2014  Standard Class    BH-11710   \n",
       "4      11  CA-2014-115812    6/9/2014   6/14/2014  Standard Class    BH-11710   \n",
       "\n",
       "     Customer Name   Segment        Country             City  ... Postal Code  \\\n",
       "0      Claire Gute  Consumer  United States        Henderson  ...       42420   \n",
       "1      Claire Gute  Consumer  United States        Henderson  ...       42420   \n",
       "2   Sean O'Donnell  Consumer  United States  Fort Lauderdale  ...       33311   \n",
       "3  Brosina Hoffman  Consumer  United States      Los Angeles  ...       90032   \n",
       "4  Brosina Hoffman  Consumer  United States      Los Angeles  ...       90032   \n",
       "\n",
       "   Region       Product ID   Category Sub-Category  \\\n",
       "0   South  FUR-BO-10001798  Furniture    Bookcases   \n",
       "1   South  FUR-CH-10000454  Furniture       Chairs   \n",
       "2   South  FUR-TA-10000577  Furniture       Tables   \n",
       "3    West  FUR-FU-10001487  Furniture  Furnishings   \n",
       "4    West  FUR-TA-10001539  Furniture       Tables   \n",
       "\n",
       "                                        Product Name      Sales  Quantity  \\\n",
       "0                  Bush Somerset Collection Bookcase   261.9600         2   \n",
       "1  Hon Deluxe Fabric Upholstered Stacking Chairs,...   731.9400         3   \n",
       "2      Bretford CR4500 Series Slim Rectangular Table   957.5775         5   \n",
       "3  Eldon Expressions Wood and Plastic Desk Access...    48.8600         7   \n",
       "4           Chromcraft Rectangular Conference Tables  1706.1840         9   \n",
       "\n",
       "   Discount    Profit  \n",
       "0      0.00   41.9136  \n",
       "1      0.00  219.5820  \n",
       "2      0.45 -383.0310  \n",
       "3      0.00   14.1694  \n",
       "4      0.20   85.3092  \n",
       "\n",
       "[5 rows x 21 columns]"
      ]
     },
     "execution_count": 8,
     "metadata": {},
     "output_type": "execute_result"
    }
   ],
   "source": [
    "furniture.head()"
   ]
  },
  {
   "cell_type": "code",
   "execution_count": 9,
   "metadata": {},
   "outputs": [
    {
     "data": {
      "text/html": [
       "<div>\n",
       "<style scoped>\n",
       "    .dataframe tbody tr th:only-of-type {\n",
       "        vertical-align: middle;\n",
       "    }\n",
       "\n",
       "    .dataframe tbody tr th {\n",
       "        vertical-align: top;\n",
       "    }\n",
       "\n",
       "    .dataframe thead th {\n",
       "        text-align: right;\n",
       "    }\n",
       "</style>\n",
       "<table border=\"1\" class=\"dataframe\">\n",
       "  <thead>\n",
       "    <tr style=\"text-align: right;\">\n",
       "      <th></th>\n",
       "      <th>Row ID</th>\n",
       "      <th>Order ID</th>\n",
       "      <th>Order Date</th>\n",
       "      <th>Ship Date</th>\n",
       "      <th>Ship Mode</th>\n",
       "      <th>Customer ID</th>\n",
       "      <th>Customer Name</th>\n",
       "      <th>Segment</th>\n",
       "      <th>Country</th>\n",
       "      <th>City</th>\n",
       "      <th>...</th>\n",
       "      <th>Postal Code</th>\n",
       "      <th>Region</th>\n",
       "      <th>Product ID</th>\n",
       "      <th>Category</th>\n",
       "      <th>Sub-Category</th>\n",
       "      <th>Product Name</th>\n",
       "      <th>Sales</th>\n",
       "      <th>Quantity</th>\n",
       "      <th>Discount</th>\n",
       "      <th>Profit</th>\n",
       "    </tr>\n",
       "  </thead>\n",
       "  <tbody>\n",
       "    <tr>\n",
       "      <th>2116</th>\n",
       "      <td>9963</td>\n",
       "      <td>CA-2015-168088</td>\n",
       "      <td>3/19/2015</td>\n",
       "      <td>3/22/2015</td>\n",
       "      <td>First Class</td>\n",
       "      <td>CM-12655</td>\n",
       "      <td>Corinna Mitchell</td>\n",
       "      <td>Home Office</td>\n",
       "      <td>United States</td>\n",
       "      <td>Houston</td>\n",
       "      <td>...</td>\n",
       "      <td>77041</td>\n",
       "      <td>Central</td>\n",
       "      <td>FUR-BO-10004218</td>\n",
       "      <td>Furniture</td>\n",
       "      <td>Bookcases</td>\n",
       "      <td>Bush Heritage Pine Collection 5-Shelf Bookcase...</td>\n",
       "      <td>383.4656</td>\n",
       "      <td>4</td>\n",
       "      <td>0.32</td>\n",
       "      <td>-67.6704</td>\n",
       "    </tr>\n",
       "    <tr>\n",
       "      <th>2117</th>\n",
       "      <td>9965</td>\n",
       "      <td>CA-2016-146374</td>\n",
       "      <td>12/5/2016</td>\n",
       "      <td>12/10/2016</td>\n",
       "      <td>Second Class</td>\n",
       "      <td>HE-14800</td>\n",
       "      <td>Harold Engle</td>\n",
       "      <td>Corporate</td>\n",
       "      <td>United States</td>\n",
       "      <td>Newark</td>\n",
       "      <td>...</td>\n",
       "      <td>19711</td>\n",
       "      <td>East</td>\n",
       "      <td>FUR-FU-10002671</td>\n",
       "      <td>Furniture</td>\n",
       "      <td>Furnishings</td>\n",
       "      <td>Electrix 20W Halogen Replacement Bulb for Zoom...</td>\n",
       "      <td>13.4000</td>\n",
       "      <td>1</td>\n",
       "      <td>0.00</td>\n",
       "      <td>6.4320</td>\n",
       "    </tr>\n",
       "    <tr>\n",
       "      <th>2118</th>\n",
       "      <td>9981</td>\n",
       "      <td>US-2015-151435</td>\n",
       "      <td>9/6/2015</td>\n",
       "      <td>9/9/2015</td>\n",
       "      <td>Second Class</td>\n",
       "      <td>SW-20455</td>\n",
       "      <td>Shaun Weien</td>\n",
       "      <td>Consumer</td>\n",
       "      <td>United States</td>\n",
       "      <td>Lafayette</td>\n",
       "      <td>...</td>\n",
       "      <td>70506</td>\n",
       "      <td>South</td>\n",
       "      <td>FUR-TA-10001039</td>\n",
       "      <td>Furniture</td>\n",
       "      <td>Tables</td>\n",
       "      <td>KI Adjustable-Height Table</td>\n",
       "      <td>85.9800</td>\n",
       "      <td>1</td>\n",
       "      <td>0.00</td>\n",
       "      <td>22.3548</td>\n",
       "    </tr>\n",
       "    <tr>\n",
       "      <th>2119</th>\n",
       "      <td>9990</td>\n",
       "      <td>CA-2014-110422</td>\n",
       "      <td>1/21/2014</td>\n",
       "      <td>1/23/2014</td>\n",
       "      <td>Second Class</td>\n",
       "      <td>TB-21400</td>\n",
       "      <td>Tom Boeckenhauer</td>\n",
       "      <td>Consumer</td>\n",
       "      <td>United States</td>\n",
       "      <td>Miami</td>\n",
       "      <td>...</td>\n",
       "      <td>33180</td>\n",
       "      <td>South</td>\n",
       "      <td>FUR-FU-10001889</td>\n",
       "      <td>Furniture</td>\n",
       "      <td>Furnishings</td>\n",
       "      <td>Ultra Door Pull Handle</td>\n",
       "      <td>25.2480</td>\n",
       "      <td>3</td>\n",
       "      <td>0.20</td>\n",
       "      <td>4.1028</td>\n",
       "    </tr>\n",
       "    <tr>\n",
       "      <th>2120</th>\n",
       "      <td>9991</td>\n",
       "      <td>CA-2017-121258</td>\n",
       "      <td>2/26/2017</td>\n",
       "      <td>3/3/2017</td>\n",
       "      <td>Standard Class</td>\n",
       "      <td>DB-13060</td>\n",
       "      <td>Dave Brooks</td>\n",
       "      <td>Consumer</td>\n",
       "      <td>United States</td>\n",
       "      <td>Costa Mesa</td>\n",
       "      <td>...</td>\n",
       "      <td>92627</td>\n",
       "      <td>West</td>\n",
       "      <td>FUR-FU-10000747</td>\n",
       "      <td>Furniture</td>\n",
       "      <td>Furnishings</td>\n",
       "      <td>Tenex B1-RE Series Chair Mats for Low Pile Car...</td>\n",
       "      <td>91.9600</td>\n",
       "      <td>2</td>\n",
       "      <td>0.00</td>\n",
       "      <td>15.6332</td>\n",
       "    </tr>\n",
       "  </tbody>\n",
       "</table>\n",
       "<p>5 rows × 21 columns</p>\n",
       "</div>"
      ],
      "text/plain": [
       "      Row ID        Order ID Order Date   Ship Date       Ship Mode  \\\n",
       "2116    9963  CA-2015-168088  3/19/2015   3/22/2015     First Class   \n",
       "2117    9965  CA-2016-146374  12/5/2016  12/10/2016    Second Class   \n",
       "2118    9981  US-2015-151435   9/6/2015    9/9/2015    Second Class   \n",
       "2119    9990  CA-2014-110422  1/21/2014   1/23/2014    Second Class   \n",
       "2120    9991  CA-2017-121258  2/26/2017    3/3/2017  Standard Class   \n",
       "\n",
       "     Customer ID     Customer Name      Segment        Country        City  \\\n",
       "2116    CM-12655  Corinna Mitchell  Home Office  United States     Houston   \n",
       "2117    HE-14800      Harold Engle    Corporate  United States      Newark   \n",
       "2118    SW-20455       Shaun Weien     Consumer  United States   Lafayette   \n",
       "2119    TB-21400  Tom Boeckenhauer     Consumer  United States       Miami   \n",
       "2120    DB-13060       Dave Brooks     Consumer  United States  Costa Mesa   \n",
       "\n",
       "      ... Postal Code   Region       Product ID   Category Sub-Category  \\\n",
       "2116  ...       77041  Central  FUR-BO-10004218  Furniture    Bookcases   \n",
       "2117  ...       19711     East  FUR-FU-10002671  Furniture  Furnishings   \n",
       "2118  ...       70506    South  FUR-TA-10001039  Furniture       Tables   \n",
       "2119  ...       33180    South  FUR-FU-10001889  Furniture  Furnishings   \n",
       "2120  ...       92627     West  FUR-FU-10000747  Furniture  Furnishings   \n",
       "\n",
       "                                           Product Name     Sales  Quantity  \\\n",
       "2116  Bush Heritage Pine Collection 5-Shelf Bookcase...  383.4656         4   \n",
       "2117  Electrix 20W Halogen Replacement Bulb for Zoom...   13.4000         1   \n",
       "2118                         KI Adjustable-Height Table   85.9800         1   \n",
       "2119                             Ultra Door Pull Handle   25.2480         3   \n",
       "2120  Tenex B1-RE Series Chair Mats for Low Pile Car...   91.9600         2   \n",
       "\n",
       "      Discount   Profit  \n",
       "2116      0.32 -67.6704  \n",
       "2117      0.00   6.4320  \n",
       "2118      0.00  22.3548  \n",
       "2119      0.20   4.1028  \n",
       "2120      0.00  15.6332  \n",
       "\n",
       "[5 rows x 21 columns]"
      ]
     },
     "execution_count": 9,
     "metadata": {},
     "output_type": "execute_result"
    }
   ],
   "source": [
    "furniture.tail()"
   ]
  },
  {
   "cell_type": "markdown",
   "metadata": {},
   "source": [
    "# 3. Data Preparation"
   ]
  },
  {
   "cell_type": "raw",
   "metadata": {},
   "source": [
    "The process of data preparation entails cleansing, structuring and integrating data to make it ready for analysis.\n",
    "                        Here we will analyze and prepare data to perform regression techniques:\n",
    "                        1. Check dimensions and data types of the dataframe \n",
    "                        2. Study summary statistics\n",
    "                        3. Converting date into standard format\n",
    "                        4. Check for missing values\n",
    "                        5. Study correlation"
   ]
  },
  {
   "cell_type": "markdown",
   "metadata": {},
   "source": [
    "# 3.1 Dimensions of Dataset\n",
    "We get a quick idea of how many instances (rows) and how many attributes (columns) the data contains with the shape property."
   ]
  },
  {
   "cell_type": "code",
   "execution_count": 10,
   "metadata": {
    "colab": {},
    "colab_type": "code",
    "id": "D8EcGqsL2fGI",
    "outputId": "9629c76c-bc15-42d6-cbae-ba0632e98865"
   },
   "outputs": [
    {
     "data": {
      "text/plain": [
       "(2121, 21)"
      ]
     },
     "execution_count": 10,
     "metadata": {},
     "output_type": "execute_result"
    }
   ],
   "source": [
    "# Checking structure of the data\n",
    "furniture.shape"
   ]
  },
  {
   "cell_type": "code",
   "execution_count": 11,
   "metadata": {},
   "outputs": [
    {
     "data": {
      "text/plain": [
       "Index(['Row ID', 'Order ID', 'Order Date', 'Ship Date', 'Ship Mode',\n",
       "       'Customer ID', 'Customer Name', 'Segment', 'Country', 'City', 'State',\n",
       "       'Postal Code', 'Region', 'Product ID', 'Category', 'Sub-Category',\n",
       "       'Product Name', 'Sales', 'Quantity', 'Discount', 'Profit'],\n",
       "      dtype='object')"
      ]
     },
     "execution_count": 11,
     "metadata": {},
     "output_type": "execute_result"
    }
   ],
   "source": [
    "furniture.columns"
   ]
  },
  {
   "cell_type": "markdown",
   "metadata": {},
   "source": [
    "# 3.2 Statistical Summary\n",
    "Here we take a look at the summary of each attribute.\n",
    "\n",
    "This includes the count, mean, the min and max values as well as percentile"
   ]
  },
  {
   "cell_type": "code",
   "execution_count": 12,
   "metadata": {
    "colab": {},
    "colab_type": "code",
    "id": "1Mh3z2yk2fGZ",
    "outputId": "2b2ffd4f-61a1-4834-a4ae-70c4e779d542"
   },
   "outputs": [
    {
     "data": {
      "text/html": [
       "<div>\n",
       "<style scoped>\n",
       "    .dataframe tbody tr th:only-of-type {\n",
       "        vertical-align: middle;\n",
       "    }\n",
       "\n",
       "    .dataframe tbody tr th {\n",
       "        vertical-align: top;\n",
       "    }\n",
       "\n",
       "    .dataframe thead th {\n",
       "        text-align: right;\n",
       "    }\n",
       "</style>\n",
       "<table border=\"1\" class=\"dataframe\">\n",
       "  <thead>\n",
       "    <tr style=\"text-align: right;\">\n",
       "      <th></th>\n",
       "      <th>count</th>\n",
       "      <th>mean</th>\n",
       "      <th>std</th>\n",
       "      <th>min</th>\n",
       "      <th>25%</th>\n",
       "      <th>50%</th>\n",
       "      <th>75%</th>\n",
       "      <th>max</th>\n",
       "    </tr>\n",
       "  </thead>\n",
       "  <tbody>\n",
       "    <tr>\n",
       "      <th>Row ID</th>\n",
       "      <td>2121.0</td>\n",
       "      <td>5041.643564</td>\n",
       "      <td>2885.740258</td>\n",
       "      <td>1.0000</td>\n",
       "      <td>2568.000</td>\n",
       "      <td>5145.0000</td>\n",
       "      <td>7534.0000</td>\n",
       "      <td>9991.000</td>\n",
       "    </tr>\n",
       "    <tr>\n",
       "      <th>Postal Code</th>\n",
       "      <td>2121.0</td>\n",
       "      <td>55726.556341</td>\n",
       "      <td>32261.888225</td>\n",
       "      <td>1040.0000</td>\n",
       "      <td>22801.000</td>\n",
       "      <td>60505.0000</td>\n",
       "      <td>90032.0000</td>\n",
       "      <td>99301.000</td>\n",
       "    </tr>\n",
       "    <tr>\n",
       "      <th>Sales</th>\n",
       "      <td>2121.0</td>\n",
       "      <td>349.834887</td>\n",
       "      <td>503.179145</td>\n",
       "      <td>1.8920</td>\n",
       "      <td>47.040</td>\n",
       "      <td>182.2200</td>\n",
       "      <td>435.1680</td>\n",
       "      <td>4416.174</td>\n",
       "    </tr>\n",
       "    <tr>\n",
       "      <th>Quantity</th>\n",
       "      <td>2121.0</td>\n",
       "      <td>3.785007</td>\n",
       "      <td>2.251620</td>\n",
       "      <td>1.0000</td>\n",
       "      <td>2.000</td>\n",
       "      <td>3.0000</td>\n",
       "      <td>5.0000</td>\n",
       "      <td>14.000</td>\n",
       "    </tr>\n",
       "    <tr>\n",
       "      <th>Discount</th>\n",
       "      <td>2121.0</td>\n",
       "      <td>0.173923</td>\n",
       "      <td>0.181547</td>\n",
       "      <td>0.0000</td>\n",
       "      <td>0.000</td>\n",
       "      <td>0.2000</td>\n",
       "      <td>0.3000</td>\n",
       "      <td>0.700</td>\n",
       "    </tr>\n",
       "    <tr>\n",
       "      <th>Profit</th>\n",
       "      <td>2121.0</td>\n",
       "      <td>8.699327</td>\n",
       "      <td>136.049246</td>\n",
       "      <td>-1862.3124</td>\n",
       "      <td>-12.849</td>\n",
       "      <td>7.7748</td>\n",
       "      <td>33.7266</td>\n",
       "      <td>1013.127</td>\n",
       "    </tr>\n",
       "  </tbody>\n",
       "</table>\n",
       "</div>"
      ],
      "text/plain": [
       "              count          mean           std        min        25%  \\\n",
       "Row ID       2121.0   5041.643564   2885.740258     1.0000   2568.000   \n",
       "Postal Code  2121.0  55726.556341  32261.888225  1040.0000  22801.000   \n",
       "Sales        2121.0    349.834887    503.179145     1.8920     47.040   \n",
       "Quantity     2121.0      3.785007      2.251620     1.0000      2.000   \n",
       "Discount     2121.0      0.173923      0.181547     0.0000      0.000   \n",
       "Profit       2121.0      8.699327    136.049246 -1862.3124    -12.849   \n",
       "\n",
       "                    50%         75%        max  \n",
       "Row ID        5145.0000   7534.0000   9991.000  \n",
       "Postal Code  60505.0000  90032.0000  99301.000  \n",
       "Sales          182.2200    435.1680   4416.174  \n",
       "Quantity         3.0000      5.0000     14.000  \n",
       "Discount         0.2000      0.3000      0.700  \n",
       "Profit           7.7748     33.7266   1013.127  "
      ]
     },
     "execution_count": 12,
     "metadata": {},
     "output_type": "execute_result"
    }
   ],
   "source": [
    "furniture.describe().T"
   ]
  },
  {
   "cell_type": "markdown",
   "metadata": {},
   "source": [
    "# 3.3 Checking for Missing Values"
   ]
  },
  {
   "cell_type": "code",
   "execution_count": 13,
   "metadata": {
    "colab": {},
    "colab_type": "code",
    "id": "YVMD5j6m2fGm",
    "outputId": "cbc3e6a3-4ccc-4738-fd5f-31050b841152"
   },
   "outputs": [
    {
     "name": "stdout",
     "output_type": "stream",
     "text": [
      "<class 'pandas.core.frame.DataFrame'>\n",
      "RangeIndex: 2121 entries, 0 to 2120\n",
      "Data columns (total 21 columns):\n",
      " #   Column         Non-Null Count  Dtype  \n",
      "---  ------         --------------  -----  \n",
      " 0   Row ID         2121 non-null   int64  \n",
      " 1   Order ID       2121 non-null   object \n",
      " 2   Order Date     2121 non-null   object \n",
      " 3   Ship Date      2121 non-null   object \n",
      " 4   Ship Mode      2121 non-null   object \n",
      " 5   Customer ID    2121 non-null   object \n",
      " 6   Customer Name  2121 non-null   object \n",
      " 7   Segment        2121 non-null   object \n",
      " 8   Country        2121 non-null   object \n",
      " 9   City           2121 non-null   object \n",
      " 10  State          2121 non-null   object \n",
      " 11  Postal Code    2121 non-null   int64  \n",
      " 12  Region         2121 non-null   object \n",
      " 13  Product ID     2121 non-null   object \n",
      " 14  Category       2121 non-null   object \n",
      " 15  Sub-Category   2121 non-null   object \n",
      " 16  Product Name   2121 non-null   object \n",
      " 17  Sales          2121 non-null   float64\n",
      " 18  Quantity       2121 non-null   int64  \n",
      " 19  Discount       2121 non-null   float64\n",
      " 20  Profit         2121 non-null   float64\n",
      "dtypes: float64(3), int64(3), object(15)\n",
      "memory usage: 348.1+ KB\n"
     ]
    }
   ],
   "source": [
    "# summary of the data \n",
    "furniture.info()"
   ]
  },
  {
   "cell_type": "raw",
   "metadata": {},
   "source": [
    "Checking the furniture sales time stamp"
   ]
  },
  {
   "cell_type": "code",
   "execution_count": 14,
   "metadata": {
    "colab": {},
    "colab_type": "code",
    "id": "_Bl5j0952fG2",
    "outputId": "4fe48911-ff14-4b8b-f8ab-0c80324b6e9c"
   },
   "outputs": [
    {
     "data": {
      "text/plain": [
       "('1/1/2017', '9/9/2017')"
      ]
     },
     "execution_count": 14,
     "metadata": {},
     "output_type": "execute_result"
    }
   ],
   "source": [
    "furniture['Order Date'].min(), furniture['Order Date'].max()"
   ]
  },
  {
   "cell_type": "code",
   "execution_count": 15,
   "metadata": {
    "colab": {},
    "colab_type": "code",
    "id": "_0kLMdko2fHL",
    "outputId": "f7514d8a-c1e1-4c9a-d43f-48e56000df51"
   },
   "outputs": [
    {
     "data": {
      "text/plain": [
       "Order Date    0\n",
       "Sales         0\n",
       "dtype: int64"
      ]
     },
     "execution_count": 15,
     "metadata": {},
     "output_type": "execute_result"
    }
   ],
   "source": [
    "cols = ['Row ID', 'Order ID', 'Ship Date', 'Ship Mode', 'Customer ID', 'Customer Name', 'Segment', 'Country', 'City', 'State', 'Postal Code', 'Region', 'Product ID', 'Category', 'Sub-Category', 'Product Name', 'Quantity', 'Discount', 'Profit']\n",
    "furniture.drop(cols, axis=1, inplace=True)\n",
    "furniture = furniture.sort_values('Order Date')\n",
    "furniture.isnull().sum()"
   ]
  },
  {
   "cell_type": "raw",
   "metadata": {},
   "source": [
    "There are no missing values"
   ]
  },
  {
   "cell_type": "code",
   "execution_count": 16,
   "metadata": {},
   "outputs": [
    {
     "name": "stdout",
     "output_type": "stream",
     "text": [
      "<class 'pandas.core.frame.DataFrame'>\n",
      "Index: 2121 entries, 845 to 964\n",
      "Data columns (total 2 columns):\n",
      " #   Column      Non-Null Count  Dtype  \n",
      "---  ------      --------------  -----  \n",
      " 0   Order Date  2121 non-null   object \n",
      " 1   Sales       2121 non-null   float64\n",
      "dtypes: float64(1), object(1)\n",
      "memory usage: 49.7+ KB\n"
     ]
    }
   ],
   "source": [
    "furniture.info()"
   ]
  },
  {
   "cell_type": "code",
   "execution_count": 17,
   "metadata": {},
   "outputs": [
    {
     "data": {
      "text/plain": [
       "Order Date\n",
       "9/5/2016      10\n",
       "10/30/2017     9\n",
       "12/1/2016      9\n",
       "11/19/2017     9\n",
       "12/25/2016     9\n",
       "              ..\n",
       "6/17/2017      1\n",
       "2/3/2017       1\n",
       "6/17/2014      1\n",
       "2/4/2016       1\n",
       "10/23/2016     1\n",
       "Name: count, Length: 889, dtype: int64"
      ]
     },
     "execution_count": 17,
     "metadata": {},
     "output_type": "execute_result"
    }
   ],
   "source": [
    "furniture[\"Order Date\"].value_counts()"
   ]
  },
  {
   "cell_type": "code",
   "execution_count": 18,
   "metadata": {},
   "outputs": [
    {
     "data": {
      "text/html": [
       "<div>\n",
       "<style scoped>\n",
       "    .dataframe tbody tr th:only-of-type {\n",
       "        vertical-align: middle;\n",
       "    }\n",
       "\n",
       "    .dataframe tbody tr th {\n",
       "        vertical-align: top;\n",
       "    }\n",
       "\n",
       "    .dataframe thead th {\n",
       "        text-align: right;\n",
       "    }\n",
       "</style>\n",
       "<table border=\"1\" class=\"dataframe\">\n",
       "  <thead>\n",
       "    <tr style=\"text-align: right;\">\n",
       "      <th></th>\n",
       "      <th>Order Date</th>\n",
       "      <th>Sales</th>\n",
       "    </tr>\n",
       "  </thead>\n",
       "  <tbody>\n",
       "    <tr>\n",
       "      <th>845</th>\n",
       "      <td>1/1/2017</td>\n",
       "      <td>474.430</td>\n",
       "    </tr>\n",
       "    <tr>\n",
       "      <th>1707</th>\n",
       "      <td>1/1/2017</td>\n",
       "      <td>141.420</td>\n",
       "    </tr>\n",
       "    <tr>\n",
       "      <th>1708</th>\n",
       "      <td>1/1/2017</td>\n",
       "      <td>310.744</td>\n",
       "    </tr>\n",
       "    <tr>\n",
       "      <th>179</th>\n",
       "      <td>1/1/2017</td>\n",
       "      <td>48.896</td>\n",
       "    </tr>\n",
       "    <tr>\n",
       "      <th>181</th>\n",
       "      <td>1/10/2014</td>\n",
       "      <td>51.940</td>\n",
       "    </tr>\n",
       "  </tbody>\n",
       "</table>\n",
       "</div>"
      ],
      "text/plain": [
       "     Order Date    Sales\n",
       "845    1/1/2017  474.430\n",
       "1707   1/1/2017  141.420\n",
       "1708   1/1/2017  310.744\n",
       "179    1/1/2017   48.896\n",
       "181   1/10/2014   51.940"
      ]
     },
     "execution_count": 18,
     "metadata": {},
     "output_type": "execute_result"
    }
   ],
   "source": [
    "furniture.head()"
   ]
  },
  {
   "cell_type": "markdown",
   "metadata": {},
   "source": [
    "# 3.5 Indexing with Date\n",
    "Aggregate price by date"
   ]
  },
  {
   "cell_type": "code",
   "execution_count": 19,
   "metadata": {
    "colab": {},
    "colab_type": "code",
    "id": "Z7vL8r302fHY"
   },
   "outputs": [
    {
     "data": {
      "text/html": [
       "<div>\n",
       "<style scoped>\n",
       "    .dataframe tbody tr th:only-of-type {\n",
       "        vertical-align: middle;\n",
       "    }\n",
       "\n",
       "    .dataframe tbody tr th {\n",
       "        vertical-align: top;\n",
       "    }\n",
       "\n",
       "    .dataframe thead th {\n",
       "        text-align: right;\n",
       "    }\n",
       "</style>\n",
       "<table border=\"1\" class=\"dataframe\">\n",
       "  <thead>\n",
       "    <tr style=\"text-align: right;\">\n",
       "      <th></th>\n",
       "      <th>Order Date</th>\n",
       "      <th>Sales</th>\n",
       "    </tr>\n",
       "  </thead>\n",
       "  <tbody>\n",
       "    <tr>\n",
       "      <th>0</th>\n",
       "      <td>1/1/2017</td>\n",
       "      <td>975.4900</td>\n",
       "    </tr>\n",
       "    <tr>\n",
       "      <th>1</th>\n",
       "      <td>1/10/2014</td>\n",
       "      <td>51.9400</td>\n",
       "    </tr>\n",
       "    <tr>\n",
       "      <th>2</th>\n",
       "      <td>1/10/2015</td>\n",
       "      <td>1018.1040</td>\n",
       "    </tr>\n",
       "    <tr>\n",
       "      <th>3</th>\n",
       "      <td>1/10/2016</td>\n",
       "      <td>104.7700</td>\n",
       "    </tr>\n",
       "    <tr>\n",
       "      <th>4</th>\n",
       "      <td>1/11/2014</td>\n",
       "      <td>9.9400</td>\n",
       "    </tr>\n",
       "    <tr>\n",
       "      <th>...</th>\n",
       "      <td>...</td>\n",
       "      <td>...</td>\n",
       "    </tr>\n",
       "    <tr>\n",
       "      <th>884</th>\n",
       "      <td>9/8/2016</td>\n",
       "      <td>3374.9816</td>\n",
       "    </tr>\n",
       "    <tr>\n",
       "      <th>885</th>\n",
       "      <td>9/8/2017</td>\n",
       "      <td>1000.2390</td>\n",
       "    </tr>\n",
       "    <tr>\n",
       "      <th>886</th>\n",
       "      <td>9/9/2014</td>\n",
       "      <td>864.0240</td>\n",
       "    </tr>\n",
       "    <tr>\n",
       "      <th>887</th>\n",
       "      <td>9/9/2016</td>\n",
       "      <td>15.0080</td>\n",
       "    </tr>\n",
       "    <tr>\n",
       "      <th>888</th>\n",
       "      <td>9/9/2017</td>\n",
       "      <td>482.5640</td>\n",
       "    </tr>\n",
       "  </tbody>\n",
       "</table>\n",
       "<p>889 rows × 2 columns</p>\n",
       "</div>"
      ],
      "text/plain": [
       "    Order Date      Sales\n",
       "0     1/1/2017   975.4900\n",
       "1    1/10/2014    51.9400\n",
       "2    1/10/2015  1018.1040\n",
       "3    1/10/2016   104.7700\n",
       "4    1/11/2014     9.9400\n",
       "..         ...        ...\n",
       "884   9/8/2016  3374.9816\n",
       "885   9/8/2017  1000.2390\n",
       "886   9/9/2014   864.0240\n",
       "887   9/9/2016    15.0080\n",
       "888   9/9/2017   482.5640\n",
       "\n",
       "[889 rows x 2 columns]"
      ]
     },
     "execution_count": 19,
     "metadata": {},
     "output_type": "execute_result"
    }
   ],
   "source": [
    "furniture = furniture.groupby('Order Date')['Sales'].sum().reset_index()\n",
    "furniture"
   ]
  },
  {
   "cell_type": "markdown",
   "metadata": {
    "colab_type": "text",
    "id": "4f21lcOV2fHh"
   },
   "source": [
    "Indexing with the Time Series Data"
   ]
  },
  {
   "cell_type": "code",
   "execution_count": 20,
   "metadata": {},
   "outputs": [
    {
     "data": {
      "text/plain": [
       "Order Date\n",
       "1/1/2017      1\n",
       "6/16/2014     1\n",
       "6/11/2017     1\n",
       "6/12/2015     1\n",
       "6/12/2016     1\n",
       "             ..\n",
       "12/28/2017    1\n",
       "12/29/2014    1\n",
       "12/29/2016    1\n",
       "12/29/2017    1\n",
       "9/9/2017      1\n",
       "Name: count, Length: 889, dtype: int64"
      ]
     },
     "execution_count": 20,
     "metadata": {},
     "output_type": "execute_result"
    }
   ],
   "source": [
    "furniture[\"Order Date\"].value_counts()"
   ]
  },
  {
   "cell_type": "code",
   "execution_count": 21,
   "metadata": {
    "colab": {},
    "colab_type": "code",
    "id": "31YVsYb_2fHj",
    "outputId": "95e35416-6448-48ba-eabc-4181d9875b0a"
   },
   "outputs": [],
   "source": [
    "furniture['Order Date'] = pd.to_datetime(furniture['Order Date'])\n",
    "furniture.sort_values(by=\"Order Date\", inplace=True)"
   ]
  },
  {
   "cell_type": "code",
   "execution_count": 22,
   "metadata": {},
   "outputs": [
    {
     "data": {
      "text/plain": [
       "Timestamp('2014-01-06 00:00:00')"
      ]
     },
     "execution_count": 22,
     "metadata": {},
     "output_type": "execute_result"
    }
   ],
   "source": [
    "furniture[\"Order Date\"].min() "
   ]
  },
  {
   "cell_type": "code",
   "execution_count": 23,
   "metadata": {},
   "outputs": [
    {
     "data": {
      "text/plain": [
       "Timestamp('2017-12-30 00:00:00')"
      ]
     },
     "execution_count": 23,
     "metadata": {},
     "output_type": "execute_result"
    }
   ],
   "source": [
    "furniture[\"Order Date\"].max()"
   ]
  },
  {
   "cell_type": "code",
   "execution_count": 25,
   "metadata": {},
   "outputs": [
    {
     "data": {
      "text/html": [
       "<div>\n",
       "<style scoped>\n",
       "    .dataframe tbody tr th:only-of-type {\n",
       "        vertical-align: middle;\n",
       "    }\n",
       "\n",
       "    .dataframe tbody tr th {\n",
       "        vertical-align: top;\n",
       "    }\n",
       "\n",
       "    .dataframe thead th {\n",
       "        text-align: right;\n",
       "    }\n",
       "</style>\n",
       "<table border=\"1\" class=\"dataframe\">\n",
       "  <thead>\n",
       "    <tr style=\"text-align: right;\">\n",
       "      <th></th>\n",
       "      <th>Order Date</th>\n",
       "      <th>Sales</th>\n",
       "    </tr>\n",
       "  </thead>\n",
       "  <tbody>\n",
       "    <tr>\n",
       "      <th>49</th>\n",
       "      <td>2014-01-06</td>\n",
       "      <td>2573.8200</td>\n",
       "    </tr>\n",
       "    <tr>\n",
       "      <th>50</th>\n",
       "      <td>2014-01-07</td>\n",
       "      <td>76.7280</td>\n",
       "    </tr>\n",
       "    <tr>\n",
       "      <th>1</th>\n",
       "      <td>2014-01-10</td>\n",
       "      <td>51.9400</td>\n",
       "    </tr>\n",
       "    <tr>\n",
       "      <th>4</th>\n",
       "      <td>2014-01-11</td>\n",
       "      <td>9.9400</td>\n",
       "    </tr>\n",
       "    <tr>\n",
       "      <th>7</th>\n",
       "      <td>2014-01-13</td>\n",
       "      <td>879.9390</td>\n",
       "    </tr>\n",
       "    <tr>\n",
       "      <th>...</th>\n",
       "      <td>...</td>\n",
       "      <td>...</td>\n",
       "    </tr>\n",
       "    <tr>\n",
       "      <th>290</th>\n",
       "      <td>2017-12-24</td>\n",
       "      <td>1393.4940</td>\n",
       "    </tr>\n",
       "    <tr>\n",
       "      <th>293</th>\n",
       "      <td>2017-12-25</td>\n",
       "      <td>832.4540</td>\n",
       "    </tr>\n",
       "    <tr>\n",
       "      <th>300</th>\n",
       "      <td>2017-12-28</td>\n",
       "      <td>551.2568</td>\n",
       "    </tr>\n",
       "    <tr>\n",
       "      <th>303</th>\n",
       "      <td>2017-12-29</td>\n",
       "      <td>2330.7180</td>\n",
       "    </tr>\n",
       "    <tr>\n",
       "      <th>309</th>\n",
       "      <td>2017-12-30</td>\n",
       "      <td>323.1360</td>\n",
       "    </tr>\n",
       "  </tbody>\n",
       "</table>\n",
       "<p>889 rows × 2 columns</p>\n",
       "</div>"
      ],
      "text/plain": [
       "    Order Date      Sales\n",
       "49  2014-01-06  2573.8200\n",
       "50  2014-01-07    76.7280\n",
       "1   2014-01-10    51.9400\n",
       "4   2014-01-11     9.9400\n",
       "7   2014-01-13   879.9390\n",
       "..         ...        ...\n",
       "290 2017-12-24  1393.4940\n",
       "293 2017-12-25   832.4540\n",
       "300 2017-12-28   551.2568\n",
       "303 2017-12-29  2330.7180\n",
       "309 2017-12-30   323.1360\n",
       "\n",
       "[889 rows x 2 columns]"
      ]
     },
     "execution_count": 25,
     "metadata": {},
     "output_type": "execute_result"
    }
   ],
   "source": [
    "furniture"
   ]
  },
  {
   "cell_type": "code",
   "execution_count": 26,
   "metadata": {},
   "outputs": [
    {
     "data": {
      "text/plain": [
       "DatetimeIndex(['2014-01-06', '2014-01-07', '2014-01-10', '2014-01-11',\n",
       "               '2014-01-13', '2014-01-14', '2014-01-16', '2014-01-19',\n",
       "               '2014-01-20', '2014-01-21',\n",
       "               ...\n",
       "               '2017-12-18', '2017-12-19', '2017-12-21', '2017-12-22',\n",
       "               '2017-12-23', '2017-12-24', '2017-12-25', '2017-12-28',\n",
       "               '2017-12-29', '2017-12-30'],\n",
       "              dtype='datetime64[ns]', name='Order Date', length=889, freq=None)"
      ]
     },
     "execution_count": 26,
     "metadata": {},
     "output_type": "execute_result"
    }
   ],
   "source": [
    "furniture.set_index('Order Date', inplace=True)\n",
    "furniture.index"
   ]
  },
  {
   "cell_type": "markdown",
   "metadata": {
    "colab_type": "text",
    "id": "IDXwPd0u2fHt"
   },
   "source": [
    "Resampling the datetime data. Here we use the start of each month as the timestamp and take the average daily sales value for a particular month since working with the current datetime data becomes tricky"
   ]
  },
  {
   "cell_type": "markdown",
   "metadata": {},
   "source": [
    "# 4. Time Series Analysis\n",
    "Now we analysis Time series data to do so we need to perform following steps\n",
    "    \n",
    "    1. Visualizing Data\n",
    "    2. Sampling\n",
    "    3. Checking Stationarity\n",
    "    4. Decomposing"
   ]
  },
  {
   "cell_type": "markdown",
   "metadata": {},
   "source": [
    " # 4.1 Visualizing data"
   ]
  },
  {
   "cell_type": "code",
   "execution_count": 27,
   "metadata": {},
   "outputs": [
    {
     "data": {
      "image/png": "[encoded data removed]",
      "text/plain": [
       "<Figure size 1500x600 with 1 Axes>"
      ]
     },
     "metadata": {},
     "output_type": "display_data"
    }
   ],
   "source": [
    "furniture.plot(figsize=(15, 6))\n",
    "plt.show()"
   ]
  },
  {
   "cell_type": "code",
   "execution_count": 28,
   "metadata": {
    "colab": {},
    "colab_type": "code",
    "id": "ShhlI-CQ2fH4"
   },
   "outputs": [],
   "source": [
    "y = furniture['Sales'].resample('MS').mean() "
   ]
  },
  {
   "cell_type": "code",
   "execution_count": 29,
   "metadata": {},
   "outputs": [
    {
     "data": {
      "text/plain": [
       "Order Date\n",
       "2014-01-01     480.194231\n",
       "2014-02-01     367.931600\n",
       "2014-03-01     857.291529\n",
       "2014-04-01     567.488357\n",
       "2014-05-01     432.049188\n",
       "2014-06-01     695.059242\n",
       "2014-07-01     601.169500\n",
       "2014-08-01     457.521656\n",
       "2014-09-01     992.353367\n",
       "2014-10-01     769.015437\n",
       "2014-11-01     980.221486\n",
       "2014-12-01    1532.298325\n",
       "2015-01-01     978.328467\n",
       "2015-02-01     522.395667\n",
       "2015-03-01     781.236437\n",
       "2015-04-01     805.822962\n",
       "2015-05-01     624.996700\n",
       "2015-06-01     428.565500\n",
       "2015-07-01     719.706316\n",
       "2015-08-01     602.412012\n",
       "2015-09-01    1382.790684\n",
       "2015-10-01     632.980184\n",
       "2015-11-01    1286.701354\n",
       "2015-12-01    1049.355418\n",
       "2016-01-01     508.182867\n",
       "2016-02-01     356.868273\n",
       "2016-03-01     609.575810\n",
       "2016-04-01     695.373158\n",
       "2016-05-01     687.265227\n",
       "2016-06-01     816.910750\n",
       "2016-07-01     768.736412\n",
       "2016-08-01     734.307782\n",
       "2016-09-01    1135.953371\n",
       "2016-10-01     624.872474\n",
       "2016-11-01    1271.345152\n",
       "2016-12-01    1410.719808\n",
       "2017-01-01     397.602133\n",
       "2017-02-01     528.179800\n",
       "2017-03-01     544.672240\n",
       "2017-04-01     453.297905\n",
       "2017-05-01     678.302328\n",
       "2017-06-01     826.460291\n",
       "2017-07-01     562.524857\n",
       "2017-08-01     857.881889\n",
       "2017-09-01    1209.508583\n",
       "2017-10-01     875.362728\n",
       "2017-11-01    1277.817759\n",
       "2017-12-01    1256.298672\n",
       "Freq: MS, Name: Sales, dtype: float64"
      ]
     },
     "execution_count": 29,
     "metadata": {},
     "output_type": "execute_result"
    }
   ],
   "source": [
    "y"
   ]
  },
  {
   "cell_type": "code",
   "execution_count": 30,
   "metadata": {
    "colab": {},
    "colab_type": "code",
    "id": "0RquBmFZ2fIA",
    "outputId": "8e108c34-3ece-4f9a-8718-bb81ad3f52e4"
   },
   "outputs": [
    {
     "data": {
      "text/plain": [
       "Order Date\n",
       "2017-01-01     397.602133\n",
       "2017-02-01     528.179800\n",
       "2017-03-01     544.672240\n",
       "2017-04-01     453.297905\n",
       "2017-05-01     678.302328\n",
       "2017-06-01     826.460291\n",
       "2017-07-01     562.524857\n",
       "2017-08-01     857.881889\n",
       "2017-09-01    1209.508583\n",
       "2017-10-01     875.362728\n",
       "2017-11-01    1277.817759\n",
       "2017-12-01    1256.298672\n",
       "Freq: MS, Name: Sales, dtype: float64"
      ]
     },
     "execution_count": 30,
     "metadata": {},
     "output_type": "execute_result"
    }
   ],
   "source": [
    "y['2017':]"
   ]
  },
  {
   "cell_type": "raw",
   "metadata": {},
   "source": [
    "Visualizing Furniture Sales Time Series Data"
   ]
  },
  {
   "cell_type": "code",
   "execution_count": 31,
   "metadata": {
    "colab": {},
    "colab_type": "code",
    "id": "9ptjYqBH2fIS",
    "outputId": "3b174561-a0af-4316-a1d0-27ef663fb102"
   },
   "outputs": [
    {
     "data": {
      "image/png": "[encoded data removed]",
      "text/plain": [
       "<Figure size 1500x600 with 1 Axes>"
      ]
     },
     "metadata": {},
     "output_type": "display_data"
    }
   ],
   "source": [
    "y.plot(figsize=(15, 6))\n",
    "plt.show()"
   ]
  },
  {
   "cell_type": "markdown",
   "metadata": {
    "colab_type": "text",
    "id": "baqjp5IN2fIj"
   },
   "source": [
    "The plot clearly indicates that the time series has seasonality pattern.The sales are always low at the beginning of the year and high at the end of the year. There is always an upward trend within any single year with a couple of low months in the mid of the year"
   ]
  },
  {
   "cell_type": "code",
   "execution_count": 32,
   "metadata": {},
   "outputs": [],
   "source": [
    "train = y[:'2017-06-01']\n",
    "test = y['2017-07-01':]"
   ]
  },
  {
   "cell_type": "markdown",
   "metadata": {},
   "source": [
    " # Single Exponential Smoothing "
   ]
  },
  {
   "cell_type": "code",
   "execution_count": 33,
   "metadata": {},
   "outputs": [],
   "source": [
    "from statsmodels.tsa.holtwinters import ExponentialSmoothing"
   ]
  },
  {
   "cell_type": "code",
   "execution_count": 34,
   "metadata": {},
   "outputs": [],
   "source": [
    "# our guessed parameters\n",
    "alpha = 0.4\n",
    "beta = 0.2\n",
    "gamma = 0.01\n",
    "\n",
    "# initialise model\n",
    "ets_model = ExponentialSmoothing(train, trend='mul', seasonal='mul', seasonal_periods=12, initialization_method=\"estimated\")\n",
    "ets_fit = ets_model.fit(smoothing_level=alpha, smoothing_slope=beta, smoothing_seasonal=gamma,optimized=True)"
   ]
  },
  {
   "cell_type": "code",
   "execution_count": 35,
   "metadata": {},
   "outputs": [
    {
     "data": {
      "text/plain": [
       "2017-07-01     741.422267\n",
       "2017-08-01     673.046541\n",
       "2017-09-01    1284.855872\n",
       "2017-10-01     756.385967\n",
       "2017-11-01    1368.826547\n",
       "2017-12-01    1556.820362\n",
       "2018-01-01     786.229577\n",
       "2018-02-01     591.220319\n",
       "2018-03-01     920.411822\n",
       "2018-04-01     861.025420\n",
       "2018-05-01     808.158491\n",
       "2018-06-01     947.975468\n",
       "Freq: MS, dtype: float64"
      ]
     },
     "execution_count": 35,
     "metadata": {},
     "output_type": "execute_result"
    }
   ],
   "source": [
    "fcast = ets_fit.forecast(steps=12)\n",
    "fcast"
   ]
  },
  {
   "cell_type": "code",
   "execution_count": 36,
   "metadata": {},
   "outputs": [
    {
     "data": {
      "text/plain": [
       "Order Date\n",
       "2017-07-01     562.524857\n",
       "2017-08-01     857.881889\n",
       "2017-09-01    1209.508583\n",
       "2017-10-01     875.362728\n",
       "2017-11-01    1277.817759\n",
       "2017-12-01    1256.298672\n",
       "Freq: MS, Name: Sales, dtype: float64"
      ]
     },
     "execution_count": 36,
     "metadata": {},
     "output_type": "execute_result"
    }
   ],
   "source": [
    "test"
   ]
  },
  {
   "cell_type": "code",
   "execution_count": 37,
   "metadata": {},
   "outputs": [
    {
     "name": "stdout",
     "output_type": "stream",
     "text": [
      "MSE:  30766.15972721454\n",
      "MAE:  158.26454767074304\n"
     ]
    }
   ],
   "source": [
    "print(\"MSE: \", np.mean((test-fcast)**2))\n",
    "print(\"MAE: \",np.mean(np.abs((test-fcast))))"
   ]
  },
  {
   "cell_type": "code",
   "execution_count": 38,
   "metadata": {},
   "outputs": [],
   "source": [
    "def ETS_auto(train, test,alpha=[None], beta=[None], gamma=[None]):\n",
    "    best_alpha=0\n",
    "    best_beta=0\n",
    "    best_gamma=0\n",
    "    best_mae=None\n",
    "    for i in alpha:\n",
    "        for j in beta:\n",
    "            for k in gamma:  \n",
    "                ets_model = ExponentialSmoothing(train, trend='mul', seasonal='mul', seasonal_periods=12)\n",
    "                ets_fit = ets_model.fit(smoothing_level=i, smoothing_slope=j, smoothing_seasonal=k)\n",
    "                fcast = ets_fit.forecast(steps=6)\n",
    "                mae=np.mean(np.abs((test-fcast)))\n",
    "                if best_mae is None or best_mae >mae:\n",
    "                    best_mae=mae\n",
    "                    best_alpha=i\n",
    "                    best_beta=j\n",
    "                    best_gamma=k\n",
    "    best_params={\"alpha\":i, \"beta\":j, \"gamma\":k,\"mae\":best_mae}\n",
    "    return best_params       "
   ]
  },
  {
   "cell_type": "code",
   "execution_count": 39,
   "metadata": {},
   "outputs": [],
   "source": [
    "import numpy as np\n",
    "from sklearn.metrics import mean_absolute_error\n",
    "from statsmodels.tsa.holtwinters import ExponentialSmoothing\n",
    "\n",
    "def auto_hwm(timeseries, val_split_date, alpha=[None], beta=[None], gamma=[None], phi=[None], \n",
    "              trend=None, seasonal=None, periods=None, verbose=False):\n",
    "\n",
    "    '''The auto_hwm (short for auto holt winters model) function to search for the best possible parameter\n",
    "        combination for the Exponential Smoothing model i.e. smoothing level, smoothing slope, \n",
    "        smoothing seasonal and damping slope based on mean absolute error.\n",
    "\n",
    "        ****Paramters****\n",
    "\n",
    "        timeseries: array-like\n",
    "\n",
    "                  Time-Series\n",
    "\n",
    "        val_split_date: str\n",
    "\n",
    "                  The datetime to split the time-series for validation\n",
    "\n",
    "        alpha: list of floats (optional)\n",
    "\n",
    "                  The list of alpha values for the simple exponential smoothing parameter\n",
    "\n",
    "        beta: list of floats (optional)\n",
    "\n",
    "                  The list of beta values for the Holt’s trend method parameter\n",
    "\n",
    "        gamma: list of floats (optional)\n",
    "\n",
    "                  The list of gamma values for the holt winters seasonal method parameter\n",
    "\n",
    "        phi: list of floats (optional)\n",
    "\n",
    "                  The list of phi values for the damped method parameter\n",
    "\n",
    "        trend: {“add”, “mul”, “additive”, “multiplicative”, None} (optional)\n",
    "\n",
    "                  Type of trend component.\n",
    "\n",
    "        seasonal: {“add”, “mul”, “additive”, “multiplicative”, None} (optional)\n",
    "                  \n",
    "                  Type of seasonal component.\n",
    "\n",
    "        periods: int (optional)\n",
    "                  \n",
    "                  The number of periods in a complete seasonal cycle\n",
    "\n",
    "        ****Returns****\n",
    "\n",
    "        best_params: dict\n",
    "\n",
    "                  The values of alpha, beta, gamma and phi for which the \n",
    "                  validation data (val_split_date) gives the least mean absolute error\n",
    "    '''\n",
    "\n",
    "    best_params = []\n",
    "    actual = timeseries[val_split_date:]\n",
    "\n",
    "    print('Evaluating Exponential Smoothing model for', len(alpha) * len(beta) * len(gamma) * len(phi), 'fits\\n')\n",
    "\n",
    "    for a in alpha:\n",
    "        for b in beta:\n",
    "            for g in gamma:\n",
    "                for p in phi:\n",
    "\n",
    "                    if(verbose == True):\n",
    "                        print('Checking for', {'alpha': a, 'beta': b, 'gamma': g, 'phi': p})\n",
    "\n",
    "                    model = ExponentialSmoothing(timeseries, trend=trend, seasonal=seasonal, seasonal_periods=periods)\n",
    "                    model.fit(smoothing_level=a, smoothing_slope=b, smoothing_seasonal=g, damping_slope=p)\n",
    "                    f_cast = model.predict(model.params, start=actual.index[0])\n",
    "                    score = np.float64(mean_absolute_error(actual, f_cast)).mean()\n",
    "\n",
    "                    best_params.append({'alpha': a, 'beta': b, 'gamma': g, 'phi': p, 'mae': score})\n",
    "\n",
    "    return min(best_params, key=lambda x: x['mae'])\n"
   ]
  },
  {
   "cell_type": "code",
   "execution_count": 40,
   "metadata": {},
   "outputs": [
    {
     "name": "stdout",
     "output_type": "stream",
     "text": [
      "Evaluating Exponential Smoothing model for 125 fits\n",
      "\n",
      "Checking for {'alpha': 0.0, 'beta': 0.0, 'gamma': 0.0, 'phi': None}\n",
      "Checking for {'alpha': 0.0, 'beta': 0.0, 'gamma': 0.125, 'phi': None}\n",
      "Checking for {'alpha': 0.0, 'beta': 0.0, 'gamma': 0.25, 'phi': None}\n",
      "Checking for {'alpha': 0.0, 'beta': 0.0, 'gamma': 0.375, 'phi': None}\n",
      "Checking for {'alpha': 0.0, 'beta': 0.0, 'gamma': 0.5, 'phi': None}\n",
      "Checking for {'alpha': 0.0, 'beta': 0.125, 'gamma': 0.0, 'phi': None}\n",
      "Checking for {'alpha': 0.0, 'beta': 0.125, 'gamma': 0.125, 'phi': None}\n",
      "Checking for {'alpha': 0.0, 'beta': 0.125, 'gamma': 0.25, 'phi': None}\n",
      "Checking for {'alpha': 0.0, 'beta': 0.125, 'gamma': 0.375, 'phi': None}\n",
      "Checking for {'alpha': 0.0, 'beta': 0.125, 'gamma': 0.5, 'phi': None}\n",
      "Checking for {'alpha': 0.0, 'beta': 0.25, 'gamma': 0.0, 'phi': None}\n",
      "Checking for {'alpha': 0.0, 'beta': 0.25, 'gamma': 0.125, 'phi': None}\n",
      "Checking for {'alpha': 0.0, 'beta': 0.25, 'gamma': 0.25, 'phi': None}\n",
      "Checking for {'alpha': 0.0, 'beta': 0.25, 'gamma': 0.375, 'phi': None}\n",
      "Checking for {'alpha': 0.0, 'beta': 0.25, 'gamma': 0.5, 'phi': None}\n",
      "Checking for {'alpha': 0.0, 'beta': 0.375, 'gamma': 0.0, 'phi': None}\n",
      "Checking for {'alpha': 0.0, 'beta': 0.375, 'gamma': 0.125, 'phi': None}\n",
      "Checking for {'alpha': 0.0, 'beta': 0.375, 'gamma': 0.25, 'phi': None}\n",
      "Checking for {'alpha': 0.0, 'beta': 0.375, 'gamma': 0.375, 'phi': None}\n",
      "Checking for {'alpha': 0.0, 'beta': 0.375, 'gamma': 0.5, 'phi': None}\n",
      "Checking for {'alpha': 0.0, 'beta': 0.5, 'gamma': 0.0, 'phi': None}\n",
      "Checking for {'alpha': 0.0, 'beta': 0.5, 'gamma': 0.125, 'phi': None}\n",
      "Checking for {'alpha': 0.0, 'beta': 0.5, 'gamma': 0.25, 'phi': None}\n",
      "Checking for {'alpha': 0.0, 'beta': 0.5, 'gamma': 0.375, 'phi': None}\n",
      "Checking for {'alpha': 0.0, 'beta': 0.5, 'gamma': 0.5, 'phi': None}\n",
      "Checking for {'alpha': 0.125, 'beta': 0.0, 'gamma': 0.0, 'phi': None}\n",
      "Checking for {'alpha': 0.125, 'beta': 0.0, 'gamma': 0.125, 'phi': None}\n",
      "Checking for {'alpha': 0.125, 'beta': 0.0, 'gamma': 0.25, 'phi': None}\n",
      "Checking for {'alpha': 0.125, 'beta': 0.0, 'gamma': 0.375, 'phi': None}\n",
      "Checking for {'alpha': 0.125, 'beta': 0.0, 'gamma': 0.5, 'phi': None}\n",
      "Checking for {'alpha': 0.125, 'beta': 0.125, 'gamma': 0.0, 'phi': None}\n",
      "Checking for {'alpha': 0.125, 'beta': 0.125, 'gamma': 0.125, 'phi': None}\n",
      "Checking for {'alpha': 0.125, 'beta': 0.125, 'gamma': 0.25, 'phi': None}\n",
      "Checking for {'alpha': 0.125, 'beta': 0.125, 'gamma': 0.375, 'phi': None}\n",
      "Checking for {'alpha': 0.125, 'beta': 0.125, 'gamma': 0.5, 'phi': None}\n",
      "Checking for {'alpha': 0.125, 'beta': 0.25, 'gamma': 0.0, 'phi': None}\n",
      "Checking for {'alpha': 0.125, 'beta': 0.25, 'gamma': 0.125, 'phi': None}\n",
      "Checking for {'alpha': 0.125, 'beta': 0.25, 'gamma': 0.25, 'phi': None}\n",
      "Checking for {'alpha': 0.125, 'beta': 0.25, 'gamma': 0.375, 'phi': None}\n",
      "Checking for {'alpha': 0.125, 'beta': 0.25, 'gamma': 0.5, 'phi': None}\n",
      "Checking for {'alpha': 0.125, 'beta': 0.375, 'gamma': 0.0, 'phi': None}\n",
      "Checking for {'alpha': 0.125, 'beta': 0.375, 'gamma': 0.125, 'phi': None}\n",
      "Checking for {'alpha': 0.125, 'beta': 0.375, 'gamma': 0.25, 'phi': None}\n",
      "Checking for {'alpha': 0.125, 'beta': 0.375, 'gamma': 0.375, 'phi': None}\n",
      "Checking for {'alpha': 0.125, 'beta': 0.375, 'gamma': 0.5, 'phi': None}\n",
      "Checking for {'alpha': 0.125, 'beta': 0.5, 'gamma': 0.0, 'phi': None}\n",
      "Checking for {'alpha': 0.125, 'beta': 0.5, 'gamma': 0.125, 'phi': None}\n",
      "Checking for {'alpha': 0.125, 'beta': 0.5, 'gamma': 0.25, 'phi': None}\n",
      "Checking for {'alpha': 0.125, 'beta': 0.5, 'gamma': 0.375, 'phi': None}\n",
      "Checking for {'alpha': 0.125, 'beta': 0.5, 'gamma': 0.5, 'phi': None}\n",
      "Checking for {'alpha': 0.25, 'beta': 0.0, 'gamma': 0.0, 'phi': None}\n",
      "Checking for {'alpha': 0.25, 'beta': 0.0, 'gamma': 0.125, 'phi': None}\n",
      "Checking for {'alpha': 0.25, 'beta': 0.0, 'gamma': 0.25, 'phi': None}\n",
      "Checking for {'alpha': 0.25, 'beta': 0.0, 'gamma': 0.375, 'phi': None}\n",
      "Checking for {'alpha': 0.25, 'beta': 0.0, 'gamma': 0.5, 'phi': None}\n",
      "Checking for {'alpha': 0.25, 'beta': 0.125, 'gamma': 0.0, 'phi': None}\n",
      "Checking for {'alpha': 0.25, 'beta': 0.125, 'gamma': 0.125, 'phi': None}\n",
      "Checking for {'alpha': 0.25, 'beta': 0.125, 'gamma': 0.25, 'phi': None}\n",
      "Checking for {'alpha': 0.25, 'beta': 0.125, 'gamma': 0.375, 'phi': None}\n",
      "Checking for {'alpha': 0.25, 'beta': 0.125, 'gamma': 0.5, 'phi': None}\n",
      "Checking for {'alpha': 0.25, 'beta': 0.25, 'gamma': 0.0, 'phi': None}\n",
      "Checking for {'alpha': 0.25, 'beta': 0.25, 'gamma': 0.125, 'phi': None}\n",
      "Checking for {'alpha': 0.25, 'beta': 0.25, 'gamma': 0.25, 'phi': None}\n",
      "Checking for {'alpha': 0.25, 'beta': 0.25, 'gamma': 0.375, 'phi': None}\n",
      "Checking for {'alpha': 0.25, 'beta': 0.25, 'gamma': 0.5, 'phi': None}\n",
      "Checking for {'alpha': 0.25, 'beta': 0.375, 'gamma': 0.0, 'phi': None}\n",
      "Checking for {'alpha': 0.25, 'beta': 0.375, 'gamma': 0.125, 'phi': None}\n",
      "Checking for {'alpha': 0.25, 'beta': 0.375, 'gamma': 0.25, 'phi': None}\n",
      "Checking for {'alpha': 0.25, 'beta': 0.375, 'gamma': 0.375, 'phi': None}\n",
      "Checking for {'alpha': 0.25, 'beta': 0.375, 'gamma': 0.5, 'phi': None}\n",
      "Checking for {'alpha': 0.25, 'beta': 0.5, 'gamma': 0.0, 'phi': None}\n",
      "Checking for {'alpha': 0.25, 'beta': 0.5, 'gamma': 0.125, 'phi': None}\n",
      "Checking for {'alpha': 0.25, 'beta': 0.5, 'gamma': 0.25, 'phi': None}\n",
      "Checking for {'alpha': 0.25, 'beta': 0.5, 'gamma': 0.375, 'phi': None}\n",
      "Checking for {'alpha': 0.25, 'beta': 0.5, 'gamma': 0.5, 'phi': None}\n",
      "Checking for {'alpha': 0.375, 'beta': 0.0, 'gamma': 0.0, 'phi': None}\n",
      "Checking for {'alpha': 0.375, 'beta': 0.0, 'gamma': 0.125, 'phi': None}\n",
      "Checking for {'alpha': 0.375, 'beta': 0.0, 'gamma': 0.25, 'phi': None}\n",
      "Checking for {'alpha': 0.375, 'beta': 0.0, 'gamma': 0.375, 'phi': None}\n",
      "Checking for {'alpha': 0.375, 'beta': 0.0, 'gamma': 0.5, 'phi': None}\n",
      "Checking for {'alpha': 0.375, 'beta': 0.125, 'gamma': 0.0, 'phi': None}\n",
      "Checking for {'alpha': 0.375, 'beta': 0.125, 'gamma': 0.125, 'phi': None}\n",
      "Checking for {'alpha': 0.375, 'beta': 0.125, 'gamma': 0.25, 'phi': None}\n",
      "Checking for {'alpha': 0.375, 'beta': 0.125, 'gamma': 0.375, 'phi': None}\n",
      "Checking for {'alpha': 0.375, 'beta': 0.125, 'gamma': 0.5, 'phi': None}\n",
      "Checking for {'alpha': 0.375, 'beta': 0.25, 'gamma': 0.0, 'phi': None}\n",
      "Checking for {'alpha': 0.375, 'beta': 0.25, 'gamma': 0.125, 'phi': None}\n",
      "Checking for {'alpha': 0.375, 'beta': 0.25, 'gamma': 0.25, 'phi': None}\n",
      "Checking for {'alpha': 0.375, 'beta': 0.25, 'gamma': 0.375, 'phi': None}\n",
      "Checking for {'alpha': 0.375, 'beta': 0.25, 'gamma': 0.5, 'phi': None}\n",
      "Checking for {'alpha': 0.375, 'beta': 0.375, 'gamma': 0.0, 'phi': None}\n",
      "Checking for {'alpha': 0.375, 'beta': 0.375, 'gamma': 0.125, 'phi': None}\n",
      "Checking for {'alpha': 0.375, 'beta': 0.375, 'gamma': 0.25, 'phi': None}\n",
      "Checking for {'alpha': 0.375, 'beta': 0.375, 'gamma': 0.375, 'phi': None}\n",
      "Checking for {'alpha': 0.375, 'beta': 0.375, 'gamma': 0.5, 'phi': None}\n",
      "Checking for {'alpha': 0.375, 'beta': 0.5, 'gamma': 0.0, 'phi': None}\n",
      "Checking for {'alpha': 0.375, 'beta': 0.5, 'gamma': 0.125, 'phi': None}\n",
      "Checking for {'alpha': 0.375, 'beta': 0.5, 'gamma': 0.25, 'phi': None}\n",
      "Checking for {'alpha': 0.375, 'beta': 0.5, 'gamma': 0.375, 'phi': None}\n",
      "Checking for {'alpha': 0.375, 'beta': 0.5, 'gamma': 0.5, 'phi': None}\n",
      "Checking for {'alpha': 0.5, 'beta': 0.0, 'gamma': 0.0, 'phi': None}\n",
      "Checking for {'alpha': 0.5, 'beta': 0.0, 'gamma': 0.125, 'phi': None}\n",
      "Checking for {'alpha': 0.5, 'beta': 0.0, 'gamma': 0.25, 'phi': None}\n",
      "Checking for {'alpha': 0.5, 'beta': 0.0, 'gamma': 0.375, 'phi': None}\n",
      "Checking for {'alpha': 0.5, 'beta': 0.0, 'gamma': 0.5, 'phi': None}\n",
      "Checking for {'alpha': 0.5, 'beta': 0.125, 'gamma': 0.0, 'phi': None}\n",
      "Checking for {'alpha': 0.5, 'beta': 0.125, 'gamma': 0.125, 'phi': None}\n",
      "Checking for {'alpha': 0.5, 'beta': 0.125, 'gamma': 0.25, 'phi': None}\n",
      "Checking for {'alpha': 0.5, 'beta': 0.125, 'gamma': 0.375, 'phi': None}\n",
      "Checking for {'alpha': 0.5, 'beta': 0.125, 'gamma': 0.5, 'phi': None}\n",
      "Checking for {'alpha': 0.5, 'beta': 0.25, 'gamma': 0.0, 'phi': None}\n",
      "Checking for {'alpha': 0.5, 'beta': 0.25, 'gamma': 0.125, 'phi': None}\n",
      "Checking for {'alpha': 0.5, 'beta': 0.25, 'gamma': 0.25, 'phi': None}\n",
      "Checking for {'alpha': 0.5, 'beta': 0.25, 'gamma': 0.375, 'phi': None}\n",
      "Checking for {'alpha': 0.5, 'beta': 0.25, 'gamma': 0.5, 'phi': None}\n",
      "Checking for {'alpha': 0.5, 'beta': 0.375, 'gamma': 0.0, 'phi': None}\n",
      "Checking for {'alpha': 0.5, 'beta': 0.375, 'gamma': 0.125, 'phi': None}\n",
      "Checking for {'alpha': 0.5, 'beta': 0.375, 'gamma': 0.25, 'phi': None}\n",
      "Checking for {'alpha': 0.5, 'beta': 0.375, 'gamma': 0.375, 'phi': None}\n",
      "Checking for {'alpha': 0.5, 'beta': 0.375, 'gamma': 0.5, 'phi': None}\n",
      "Checking for {'alpha': 0.5, 'beta': 0.5, 'gamma': 0.0, 'phi': None}\n",
      "Checking for {'alpha': 0.5, 'beta': 0.5, 'gamma': 0.125, 'phi': None}\n",
      "Checking for {'alpha': 0.5, 'beta': 0.5, 'gamma': 0.25, 'phi': None}\n",
      "Checking for {'alpha': 0.5, 'beta': 0.5, 'gamma': 0.375, 'phi': None}\n",
      "Checking for {'alpha': 0.5, 'beta': 0.5, 'gamma': 0.5, 'phi': None}\n"
     ]
    },
    {
     "data": {
      "text/plain": [
       "{'alpha': 0.25,\n",
       " 'beta': 0.0,\n",
       " 'gamma': 0.0,\n",
       " 'phi': None,\n",
       " 'mae': 111.65069517727298}"
      ]
     },
     "execution_count": 40,
     "metadata": {},
     "output_type": "execute_result"
    }
   ],
   "source": [
    "auto_hwm(y, val_split_date = '2017-06-01', \n",
    "         alpha = np.linspace(0,0.5,5), \n",
    "         beta = np.linspace(0,0.5,5), \n",
    "         gamma = np.linspace(0,0.5,5), \n",
    "         trend='mul', \n",
    "         seasonal='mul', \n",
    "         periods=12, verbose=True)"
   ]
  },
  {
   "cell_type": "code",
   "execution_count": 41,
   "metadata": {},
   "outputs": [],
   "source": [
    "# best parameters\n",
    "alpha = 0.125\n",
    "beta = 0.375\n",
    "gamma = 0\n",
    "\n",
    "# initialise model\n",
    "ets_model = ExponentialSmoothing(y, trend='mul', seasonal='mul', seasonal_periods=12)\n",
    "ets_fit = ets_model.fit(smoothing_level=alpha, smoothing_slope=beta, smoothing_seasonal=gamma)"
   ]
  },
  {
   "cell_type": "code",
   "execution_count": 42,
   "metadata": {},
   "outputs": [],
   "source": [
    "fcast = ets_fit.forecast(steps=12)"
   ]
  },
  {
   "cell_type": "code",
   "execution_count": 43,
   "metadata": {},
   "outputs": [
    {
     "data": {
      "text/plain": [
       "2018-01-01     680.536793\n",
       "2018-02-01     529.191245\n",
       "2018-03-01     828.816644\n",
       "2018-04-01     737.048485\n",
       "2018-05-01     731.512420\n",
       "2018-06-01     780.237878\n",
       "2018-07-01     814.687418\n",
       "2018-08-01     829.108069\n",
       "2018-09-01    1455.666868\n",
       "2018-10-01     899.040289\n",
       "2018-11-01    1527.428627\n",
       "2018-12-01    1686.682853\n",
       "Freq: MS, dtype: float64"
      ]
     },
     "execution_count": 43,
     "metadata": {},
     "output_type": "execute_result"
    }
   ],
   "source": [
    "fcast"
   ]
  },
  {
   "cell_type": "markdown",
   "metadata": {},
   "source": [
    " # 4.3 Checking Stationarity"
   ]
  },
  {
   "cell_type": "code",
   "execution_count": 44,
   "metadata": {},
   "outputs": [],
   "source": [
    "from statsmodels.tsa.stattools import adfuller"
   ]
  },
  {
   "cell_type": "code",
   "execution_count": 45,
   "metadata": {},
   "outputs": [
    {
     "data": {
      "text/plain": [
       "(-5.191070187339278,\n",
       " 9.168756655665362e-06,\n",
       " 10,\n",
       " 37,\n",
       " {'1%': -3.6209175221605827,\n",
       "  '5%': -2.9435394610388332,\n",
       "  '10%': -2.6104002410518627},\n",
       " 521.9616303121272)"
      ]
     },
     "execution_count": 45,
     "metadata": {},
     "output_type": "execute_result"
    }
   ],
   "source": [
    "adfuller(y)"
   ]
  },
  {
   "cell_type": "code",
   "execution_count": 46,
   "metadata": {
    "colab": {},
    "colab_type": "code",
    "id": "Ai7--10D2fIp",
    "outputId": "42e3da28-9e0f-40da-ae0d-e8e229cf5085"
   },
   "outputs": [
    {
     "name": "stdout",
     "output_type": "stream",
     "text": [
      "ADF Statistic: -5.191070\n",
      "p-value: 0.000009\n",
      "Critical Values:\n",
      "\t1%: -3.621\n",
      "\t5%: -2.944\n",
      "\t10%: -2.610\n"
     ]
    }
   ],
   "source": [
    "from pandas import Series\n",
    "from statsmodels.tsa.stattools import adfuller\n",
    "result = adfuller(y)\n",
    "print('ADF Statistic: %f' % result[0])\n",
    "print('p-value: %f' % result[1])\n",
    "print('Critical Values:')\n",
    "for key, value in result[4].items():\n",
    "    print('\\t%s: %.3f' % (key, value))"
   ]
  },
  {
   "cell_type": "markdown",
   "metadata": {
    "colab_type": "text",
    "id": "P_wzokgY2fI3"
   },
   "source": [
    "We can see that our statistic value of -5.191070 is less than the value of -3.621 at 1%. This suggests that we can reject the null hypothesis with a significance level of less than 1% (i.e. a low probability that the result is a statistical fluke). Rejecting the null hypothesis means that the process has no unit root, and in turn that the time series is stationary or does not have time-dependent structure.\n",
    "\n",
    "The p-value is 0.000009, which is way below the threshold (0.05). Hence the null-hypothesis is rejected. It suggests the time series does not have a unit root, meaning it is stationary."
   ]
  },
  {
   "cell_type": "markdown",
   "metadata": {},
   "source": [
    "# 4.4 Decomposing\n",
    "Decomposing the time series into three distinct components: trend, seasonality, and noise."
   ]
  },
  {
   "cell_type": "code",
   "execution_count": 47,
   "metadata": {},
   "outputs": [
    {
     "data": {
      "text/plain": [
       "<statsmodels.tsa.seasonal.DecomposeResult at 0x158d74a5850>"
      ]
     },
     "execution_count": 47,
     "metadata": {},
     "output_type": "execute_result"
    }
   ],
   "source": [
    "from statsmodels.tsa.seasonal import seasonal_decompose\n",
    "decomposition = seasonal_decompose(y, model='multiplicative',  two_sided=False, extrapolate_trend=4)\n",
    "decomposition"
   ]
  },
  {
   "cell_type": "code",
   "execution_count": 48,
   "metadata": {
    "colab": {},
    "colab_type": "code",
    "id": "SSi8mWUB2fI_",
    "outputId": "bdffe368-aa57-441c-e6ee-bb619140531e"
   },
   "outputs": [
    {
     "data": {
      "image/png": "[encoded data removed]",
      "text/plain": [
       "<Figure size 640x480 with 1 Axes>"
      ]
     },
     "metadata": {},
     "output_type": "display_data"
    },
    {
     "data": {
      "image/png": "[encoded data removed]",
      "text/plain": [
       "<Figure size 640x480 with 1 Axes>"
      ]
     },
     "metadata": {},
     "output_type": "display_data"
    },
    {
     "data": {
      "image/png": "[encoded data removed]",
      "text/plain": [
       "<Figure size 640x480 with 1 Axes>"
      ]
     },
     "metadata": {},
     "output_type": "display_data"
    },
    {
     "data": {
      "text/plain": [
       "<matplotlib.legend.Legend at 0x158dbc44260>"
      ]
     },
     "execution_count": 48,
     "metadata": {},
     "output_type": "execute_result"
    },
    {
     "data": {
      "image/png": "[encoded data removed]",
      "text/plain": [
       "<Figure size 640x480 with 1 Axes>"
      ]
     },
     "metadata": {},
     "output_type": "display_data"
    }
   ],
   "source": [
    "from statsmodels.tsa.seasonal import seasonal_decompose\n",
    "decomposition = seasonal_decompose(y, model='multiplicative',  two_sided=False, extrapolate_trend=4)\n",
    "\n",
    "plt.plot(y, label = 'Original')\n",
    "plt.legend(loc = 'best')\n",
    "\n",
    "trend = decomposition.trend\n",
    "plt.show()\n",
    "plt.plot(trend, label = 'Trend')\n",
    "plt.legend(loc = 'best')\n",
    "\n",
    "seasonal = decomposition.seasonal\n",
    "plt.show()\n",
    "plt.plot(seasonal, label = 'Seasonal')\n",
    "plt.legend(loc = 'best')\n",
    "\n",
    "residual = decomposition.resid\n",
    "plt.show()\n",
    "plt.plot(residual, label = 'Residual')\n",
    "plt.legend(loc='best')"
   ]
  },
  {
   "cell_type": "markdown",
   "metadata": {
    "colab_type": "text",
    "id": "ag1uQgOh2fJF"
   },
   "source": [
    "By visualizing the decomposed components of the original time series we can say that the sales of furniture is unstable, along with its obvious seasonality."
   ]
  },
  {
   "cell_type": "markdown",
   "metadata": {},
   "source": [
    "# 5. Time Series Forcasting using ARIMA\n",
    "\n",
    "we will use ARIMA for forecasting our time series. ARIMA is also denoted as ARIMA(p,d,q) where p,d,q accounts for seasonality, trend and noise in the time series datata"
   ]
  },
  {
   "cell_type": "code",
   "execution_count": 49,
   "metadata": {
    "colab": {},
    "colab_type": "code",
    "id": "gYUZlLQW2fJL",
    "outputId": "ba489325-a76e-4d13-bc6b-a240cf888320"
   },
   "outputs": [
    {
     "name": "stdout",
     "output_type": "stream",
     "text": [
      "Examples of parameter combinations for Seasonal ARIMA...\n",
      "SARIMAX: (0, 0, 1) x (0, 0, 1, 12)\n",
      "SARIMAX: (0, 0, 1) x (0, 0, 2, 12)\n",
      "SARIMAX: (0, 0, 2) x (0, 1, 0, 12)\n",
      "SARIMAX: (0, 0, 2) x (0, 1, 1, 12)\n"
     ]
    }
   ],
   "source": [
    "p = d = q = range(0, 3)\n",
    "pdq = list(itertools.product(p, d, q))\n",
    "\n",
    "seasonal_pdq = [(x[0], x[1], x[2], 12) for x in list(itertools.product(p, d, q))]\n",
    "print('Examples of parameter combinations for Seasonal ARIMA...')\n",
    "print('SARIMAX: {} x {}'.format(pdq[1], seasonal_pdq[1]))\n",
    "print('SARIMAX: {} x {}'.format(pdq[1], seasonal_pdq[2]))\n",
    "print('SARIMAX: {} x {}'.format(pdq[2], seasonal_pdq[3]))\n",
    "print('SARIMAX: {} x {}'.format(pdq[2], seasonal_pdq[4]))"
   ]
  },
  {
   "cell_type": "markdown",
   "metadata": {},
   "source": [
    "# 5.1 Parameter Selection\n",
    "We use “grid search” to find the optimal set of parameters that yields the best performance for our model."
   ]
  },
  {
   "cell_type": "code",
   "execution_count": 50,
   "metadata": {},
   "outputs": [
    {
     "name": "stdout",
     "output_type": "stream",
     "text": [
      "ARIMA(0, 0, 0)x(0, 0, 0, 12)12 - AIC:769.0817523205915\n",
      "ARIMA(0, 0, 0)x(0, 0, 1, 12)12 - AIC:1414.3428323587827\n",
      "ARIMA(0, 0, 0)x(0, 0, 2, 12)12 - AIC:354.7862732408418\n",
      "ARIMA(0, 0, 0)x(0, 1, 0, 12)12 - AIC:477.7170130920111\n",
      "ARIMA(0, 0, 0)x(0, 1, 1, 12)12 - AIC:302.2702899793728\n",
      "ARIMA(0, 0, 0)x(0, 1, 2, 12)12 - AIC:146.88834672484637\n",
      "ARIMA(0, 0, 0)x(0, 2, 0, 12)12 - AIC:336.9536604853784\n",
      "ARIMA(0, 0, 0)x(0, 2, 1, 12)12 - AIC:149.84561033291712\n",
      "ARIMA(0, 0, 0)x(0, 2, 2, 12)12 - AIC:6.0\n",
      "ARIMA(0, 0, 0)x(1, 0, 0, 12)12 - AIC:497.23144334183365\n",
      "ARIMA(0, 0, 0)x(1, 0, 1, 12)12 - AIC:1237.124688104104\n",
      "ARIMA(0, 0, 0)x(1, 0, 2, 12)12 - AIC:309.560396846494\n",
      "ARIMA(0, 0, 0)x(1, 1, 0, 12)12 - AIC:318.00471991163414\n",
      "ARIMA(0, 0, 0)x(1, 1, 1, 12)12 - AIC:304.248828030087\n",
      "ARIMA(0, 0, 0)x(1, 1, 2, 12)12 - AIC:148.83996707279294\n",
      "ARIMA(0, 0, 0)x(1, 2, 0, 12)12 - AIC:162.12029487165503\n",
      "ARIMA(0, 0, 0)x(1, 2, 1, 12)12 - AIC:151.3576167503485\n",
      "ARIMA(0, 0, 0)x(1, 2, 2, 12)12 - AIC:8.0\n",
      "ARIMA(0, 0, 0)x(2, 0, 0, 12)12 - AIC:319.96929434508735\n",
      "ARIMA(0, 0, 0)x(2, 0, 1, 12)12 - AIC:811.9283867571039\n",
      "ARIMA(0, 0, 0)x(2, 0, 2, 12)12 - AIC:307.8981846475621\n",
      "ARIMA(0, 0, 0)x(2, 1, 0, 12)12 - AIC:159.5144730671919\n",
      "ARIMA(0, 0, 0)x(2, 1, 1, 12)12 - AIC:161.29079486083606\n",
      "ARIMA(0, 0, 0)x(2, 1, 2, 12)12 - AIC:150.77405830843793\n",
      "ARIMA(0, 0, 0)x(2, 2, 0, 12)12 - AIC:6.0\n",
      "ARIMA(0, 0, 0)x(2, 2, 1, 12)12 - AIC:8.0\n",
      "ARIMA(0, 0, 0)x(2, 2, 2, 12)12 - AIC:10.0\n",
      "ARIMA(0, 0, 1)x(0, 0, 0, 12)12 - AIC:720.9252270758099\n",
      "ARIMA(0, 0, 1)x(0, 0, 1, 12)12 - AIC:2623.5158607856342\n",
      "ARIMA(0, 0, 1)x(0, 0, 2, 12)12 - AIC:323.4436688558058\n",
      "ARIMA(0, 0, 1)x(0, 1, 0, 12)12 - AIC:466.56074298091437\n",
      "ARIMA(0, 0, 1)x(0, 1, 1, 12)12 - AIC:291.6261389673291\n",
      "ARIMA(0, 0, 1)x(0, 1, 2, 12)12 - AIC:135.8829359907649\n",
      "ARIMA(0, 0, 1)x(0, 2, 0, 12)12 - AIC:324.4135789668573\n",
      "ARIMA(0, 0, 1)x(0, 2, 1, 12)12 - AIC:136.53719210574863\n",
      "ARIMA(0, 0, 1)x(0, 2, 2, 12)12 - AIC:8.0\n",
      "ARIMA(0, 0, 1)x(1, 0, 0, 12)12 - AIC:499.5978892996652\n",
      "ARIMA(0, 0, 1)x(1, 0, 1, 12)12 - AIC:2398.727250073079\n",
      "ARIMA(0, 0, 1)x(1, 0, 2, 12)12 - AIC:299.1519995969278\n",
      "ARIMA(0, 0, 1)x(1, 1, 0, 12)12 - AIC:319.9884876946868\n",
      "ARIMA(0, 0, 1)x(1, 1, 1, 12)12 - AIC:291.8725576612869\n",
      "ARIMA(0, 0, 1)x(1, 1, 2, 12)12 - AIC:137.63409914573938\n",
      "ARIMA(0, 0, 1)x(1, 2, 0, 12)12 - AIC:163.9883442810862\n",
      "ARIMA(0, 0, 1)x(1, 2, 1, 12)12 - AIC:137.70652786582798\n",
      "ARIMA(0, 0, 1)x(1, 2, 2, 12)12 - AIC:10.0\n",
      "ARIMA(0, 0, 1)x(2, 0, 0, 12)12 - AIC:321.964527700766\n",
      "ARIMA(0, 0, 1)x(2, 0, 1, 12)12 - AIC:794.1993317146505\n",
      "ARIMA(0, 0, 1)x(2, 0, 2, 12)12 - AIC:296.99636723103396\n",
      "ARIMA(0, 0, 1)x(2, 1, 0, 12)12 - AIC:160.85410049249955\n",
      "ARIMA(0, 0, 1)x(2, 1, 1, 12)12 - AIC:162.6315299881091\n",
      "ARIMA(0, 0, 1)x(2, 1, 2, 12)12 - AIC:134.84117813116234\n",
      "ARIMA(0, 0, 1)x(2, 2, 0, 12)12 - AIC:8.0\n",
      "ARIMA(0, 0, 1)x(2, 2, 1, 12)12 - AIC:10.0\n",
      "ARIMA(0, 0, 1)x(2, 2, 2, 12)12 - AIC:12.0\n",
      "ARIMA(0, 0, 2)x(0, 0, 0, 12)12 - AIC:695.9854310935171\n",
      "ARIMA(0, 0, 2)x(0, 0, 1, 12)12 - AIC:2486.2236140287564\n",
      "ARIMA(0, 0, 2)x(0, 0, 2, 12)12 - AIC:311.16372013161646\n",
      "ARIMA(0, 0, 2)x(0, 1, 0, 12)12 - AIC:455.2093474618754\n",
      "ARIMA(0, 0, 2)x(0, 1, 1, 12)12 - AIC:279.99666891435334\n",
      "ARIMA(0, 0, 2)x(0, 1, 2, 12)12 - AIC:121.5155124215638\n",
      "ARIMA(0, 0, 2)x(0, 2, 0, 12)12 - AIC:311.84173857253825\n",
      "ARIMA(0, 0, 2)x(0, 2, 1, 12)12 - AIC:121.64768702816835\n",
      "ARIMA(0, 0, 2)x(0, 2, 2, 12)12 - AIC:10.0\n",
      "ARIMA(0, 0, 2)x(1, 0, 0, 12)12 - AIC:501.00398317647483\n",
      "ARIMA(0, 0, 2)x(1, 0, 1, 12)12 - AIC:2426.799814169547\n",
      "ARIMA(0, 0, 2)x(1, 0, 2, 12)12 - AIC:286.2084429032292\n",
      "ARIMA(0, 0, 2)x(1, 1, 0, 12)12 - AIC:321.8800584473903\n",
      "ARIMA(0, 0, 2)x(1, 1, 1, 12)12 - AIC:281.7883339306647\n",
      "ARIMA(0, 0, 2)x(1, 1, 2, 12)12 - AIC:122.1881008154117\n",
      "ARIMA(0, 0, 2)x(1, 2, 0, 12)12 - AIC:164.18237607302552\n",
      "ARIMA(0, 0, 2)x(1, 2, 1, 12)12 - AIC:123.96143953994863\n",
      "ARIMA(0, 0, 2)x(1, 2, 2, 12)12 - AIC:12.0\n",
      "ARIMA(0, 0, 2)x(2, 0, 0, 12)12 - AIC:323.58227595884955\n",
      "ARIMA(0, 0, 2)x(2, 0, 1, 12)12 - AIC:857.1279810698807\n",
      "ARIMA(0, 0, 2)x(2, 0, 2, 12)12 - AIC:285.99497494761914\n",
      "ARIMA(0, 0, 2)x(2, 1, 0, 12)12 - AIC:163.578195308722\n",
      "ARIMA(0, 0, 2)x(2, 1, 1, 12)12 - AIC:164.35074076256936\n",
      "ARIMA(0, 0, 2)x(2, 1, 2, 12)12 - AIC:122.45668195633394\n",
      "ARIMA(0, 0, 2)x(2, 2, 0, 12)12 - AIC:10.0\n",
      "ARIMA(0, 0, 2)x(2, 2, 1, 12)12 - AIC:12.0\n",
      "ARIMA(0, 0, 2)x(2, 2, 2, 12)12 - AIC:14.0\n",
      "ARIMA(0, 1, 0)x(0, 0, 0, 12)12 - AIC:677.8947668414504\n",
      "ARIMA(0, 1, 0)x(0, 0, 1, 12)12 - AIC:1508.3518391667412\n",
      "ARIMA(0, 1, 0)x(0, 0, 2, 12)12 - AIC:315.5475878042052\n",
      "ARIMA(0, 1, 0)x(0, 1, 0, 12)12 - AIC:486.6378567200656\n",
      "ARIMA(0, 1, 0)x(0, 1, 1, 12)12 - AIC:304.96712281679623\n",
      "ARIMA(0, 1, 0)x(0, 1, 2, 12)12 - AIC:139.90087903125672\n",
      "ARIMA(0, 1, 0)x(0, 2, 0, 12)12 - AIC:334.9778122368006\n",
      "ARIMA(0, 1, 0)x(0, 2, 1, 12)12 - AIC:139.4125890730964\n",
      "ARIMA(0, 1, 0)x(0, 2, 2, 12)12 - AIC:6.0\n",
      "ARIMA(0, 1, 0)x(1, 0, 0, 12)12 - AIC:497.7889663004408\n",
      "ARIMA(0, 1, 0)x(1, 0, 1, 12)12 - AIC:1257.6736855700901\n",
      "ARIMA(0, 1, 0)x(1, 0, 2, 12)12 - AIC:306.3042741396165\n",
      "ARIMA(0, 1, 0)x(1, 1, 0, 12)12 - AIC:319.7714068109211\n",
      "ARIMA(0, 1, 0)x(1, 1, 1, 12)12 - AIC:306.91132001514126\n",
      "ARIMA(0, 1, 0)x(1, 1, 2, 12)12 - AIC:141.9492802884719\n",
      "ARIMA(0, 1, 0)x(1, 2, 0, 12)12 - AIC:152.42852106596328\n",
      "ARIMA(0, 1, 0)x(1, 2, 1, 12)12 - AIC:141.41119540758714\n",
      "ARIMA(0, 1, 0)x(1, 2, 2, 12)12 - AIC:8.0\n",
      "ARIMA(0, 1, 0)x(2, 0, 0, 12)12 - AIC:317.69402237661177\n",
      "ARIMA(0, 1, 0)x(2, 0, 1, 12)12 - AIC:540.5950728559334\n",
      "ARIMA(0, 1, 0)x(2, 0, 2, 12)12 - AIC:307.07079149866587\n",
      "ARIMA(0, 1, 0)x(2, 1, 0, 12)12 - AIC:153.33829187964878\n",
      "ARIMA(0, 1, 0)x(2, 1, 1, 12)12 - AIC:155.03846237125978\n",
      "ARIMA(0, 1, 0)x(2, 1, 2, 12)12 - AIC:143.81151545366927\n",
      "ARIMA(0, 1, 0)x(2, 2, 0, 12)12 - AIC:6.0\n",
      "ARIMA(0, 1, 0)x(2, 2, 1, 12)12 - AIC:8.0\n",
      "ARIMA(0, 1, 0)x(2, 2, 2, 12)12 - AIC:10.0\n",
      "ARIMA(0, 1, 1)x(0, 0, 0, 12)12 - AIC:649.9056176817429\n",
      "ARIMA(0, 1, 1)x(0, 0, 1, 12)12 - AIC:1484.8005323368561\n",
      "ARIMA(0, 1, 1)x(0, 0, 2, 12)12 - AIC:295.49841006102554\n",
      "ARIMA(0, 1, 1)x(0, 1, 0, 12)12 - AIC:458.8705548482836\n",
      "ARIMA(0, 1, 1)x(0, 1, 1, 12)12 - AIC:279.58062333404337\n",
      "ARIMA(0, 1, 1)x(0, 1, 2, 12)12 - AIC:124.25148374825724\n",
      "ARIMA(0, 1, 1)x(0, 2, 0, 12)12 - AIC:317.19576972399256\n",
      "ARIMA(0, 1, 1)x(0, 2, 1, 12)12 - AIC:123.18774195999437\n",
      "ARIMA(0, 1, 1)x(0, 2, 2, 12)12 - AIC:8.0\n",
      "ARIMA(0, 1, 1)x(1, 0, 0, 12)12 - AIC:486.1832977442789\n",
      "ARIMA(0, 1, 1)x(1, 0, 1, 12)12 - AIC:2137.245385127671\n",
      "ARIMA(0, 1, 1)x(1, 0, 2, 12)12 - AIC:289.0204925735166\n",
      "ARIMA(0, 1, 1)x(1, 1, 0, 12)12 - AIC:310.7574368417188\n",
      "ARIMA(0, 1, 1)x(1, 1, 1, 12)12 - AIC:281.5576621461248\n",
      "ARIMA(0, 1, 1)x(1, 1, 2, 12)12 - AIC:126.07741157132908\n",
      "ARIMA(0, 1, 1)x(1, 2, 0, 12)12 - AIC:154.4175410259635\n",
      "ARIMA(0, 1, 1)x(1, 2, 1, 12)12 - AIC:125.15199078307752\n",
      "ARIMA(0, 1, 1)x(1, 2, 2, 12)12 - AIC:10.0\n",
      "ARIMA(0, 1, 1)x(2, 0, 0, 12)12 - AIC:311.8590674241233\n",
      "ARIMA(0, 1, 1)x(2, 0, 1, 12)12 - AIC:901.0688868134873\n",
      "ARIMA(0, 1, 1)x(2, 0, 2, 12)12 - AIC:287.5088954391656\n",
      "ARIMA(0, 1, 1)x(2, 1, 0, 12)12 - AIC:149.57227369321893\n",
      "ARIMA(0, 1, 1)x(2, 1, 1, 12)12 - AIC:151.43439374637137\n",
      "ARIMA(0, 1, 1)x(2, 1, 2, 12)12 - AIC:128.07525390120506\n",
      "ARIMA(0, 1, 1)x(2, 2, 0, 12)12 - AIC:8.0\n",
      "ARIMA(0, 1, 1)x(2, 2, 1, 12)12 - AIC:10.0\n",
      "ARIMA(0, 1, 1)x(2, 2, 2, 12)12 - AIC:12.0\n",
      "ARIMA(0, 1, 2)x(0, 0, 0, 12)12 - AIC:634.8844283595586\n",
      "ARIMA(0, 1, 2)x(0, 0, 1, 12)12 - AIC:1880.8719442240051\n",
      "ARIMA(0, 1, 2)x(0, 0, 2, 12)12 - AIC:283.6008764695016\n",
      "ARIMA(0, 1, 2)x(0, 1, 0, 12)12 - AIC:447.5857396952798\n",
      "ARIMA(0, 1, 2)x(0, 1, 1, 12)12 - AIC:269.8325945163879\n",
      "ARIMA(0, 1, 2)x(0, 1, 2, 12)12 - AIC:109.97825476119924\n",
      "ARIMA(0, 1, 2)x(0, 2, 0, 12)12 - AIC:305.03445359437404\n",
      "ARIMA(0, 1, 2)x(0, 2, 1, 12)12 - AIC:112.17910628353306\n",
      "ARIMA(0, 1, 2)x(0, 2, 2, 12)12 - AIC:10.0\n",
      "ARIMA(0, 1, 2)x(1, 0, 0, 12)12 - AIC:487.4986912680199\n",
      "ARIMA(0, 1, 2)x(1, 0, 1, 12)12 - AIC:443.8096505685447\n",
      "ARIMA(0, 1, 2)x(1, 0, 2, 12)12 - AIC:276.40753587420204\n",
      "ARIMA(0, 1, 2)x(1, 1, 0, 12)12 - AIC:310.73389307273044\n",
      "ARIMA(0, 1, 2)x(1, 1, 1, 12)12 - AIC:271.7935696069856\n",
      "ARIMA(0, 1, 2)x(1, 1, 2, 12)12 - AIC:112.90975585031876\n",
      "ARIMA(0, 1, 2)x(1, 2, 0, 12)12 - AIC:154.6970103432346\n",
      "ARIMA(0, 1, 2)x(1, 2, 1, 12)12 - AIC:113.38656632795393\n",
      "ARIMA(0, 1, 2)x(1, 2, 2, 12)12 - AIC:12.0\n",
      "ARIMA(0, 1, 2)x(2, 0, 0, 12)12 - AIC:313.4823847170232\n",
      "ARIMA(0, 1, 2)x(2, 0, 1, 12)12 - AIC:789.0014904421707\n",
      "ARIMA(0, 1, 2)x(2, 0, 2, 12)12 - AIC:275.7436500611258\n",
      "ARIMA(0, 1, 2)x(2, 1, 0, 12)12 - AIC:151.19056458152974\n",
      "ARIMA(0, 1, 2)x(2, 1, 1, 12)12 - AIC:153.01515086872342\n",
      "ARIMA(0, 1, 2)x(2, 1, 2, 12)12 - AIC:113.93142332206537\n",
      "ARIMA(0, 1, 2)x(2, 2, 0, 12)12 - AIC:10.0\n",
      "ARIMA(0, 1, 2)x(2, 2, 1, 12)12 - AIC:12.0\n",
      "ARIMA(0, 1, 2)x(2, 2, 2, 12)12 - AIC:14.0\n",
      "ARIMA(0, 2, 0)x(0, 0, 0, 12)12 - AIC:710.112555708784\n",
      "ARIMA(0, 2, 0)x(0, 0, 1, 12)12 - AIC:1494.773707461845\n",
      "ARIMA(0, 2, 0)x(0, 0, 2, 12)12 - AIC:319.13170320999694\n",
      "ARIMA(0, 2, 0)x(0, 1, 0, 12)12 - AIC:509.8968095215822\n",
      "ARIMA(0, 2, 0)x(0, 1, 1, 12)12 - AIC:315.5897398007578\n",
      "ARIMA(0, 2, 0)x(0, 1, 2, 12)12 - AIC:128.8600146193873\n",
      "ARIMA(0, 2, 0)x(0, 2, 0, 12)12 - AIC:342.9544196337566\n",
      "ARIMA(0, 2, 0)x(0, 2, 1, 12)12 - AIC:127.63190004598414\n",
      "ARIMA(0, 2, 0)x(0, 2, 2, 12)12 - AIC:6.0\n",
      "ARIMA(0, 2, 0)x(1, 0, 0, 12)12 - AIC:520.887712617653\n",
      "ARIMA(0, 2, 0)x(1, 0, 1, 12)12 - AIC:1294.2922372233356\n",
      "ARIMA(0, 2, 0)x(1, 0, 2, 12)12 - AIC:311.3535200785233\n",
      "ARIMA(0, 2, 0)x(1, 1, 0, 12)12 - AIC:331.2504844685114\n",
      "ARIMA(0, 2, 0)x(1, 1, 1, 12)12 - AIC:317.55523269474963\n",
      "ARIMA(0, 2, 0)x(1, 1, 2, 12)12 - AIC:130.88457358783617\n",
      "ARIMA(0, 2, 0)x(1, 2, 0, 12)12 - AIC:141.68398673297622\n",
      "ARIMA(0, 2, 0)x(1, 2, 1, 12)12 - AIC:129.52063248279984\n",
      "ARIMA(0, 2, 0)x(1, 2, 2, 12)12 - AIC:8.0\n",
      "ARIMA(0, 2, 0)x(2, 0, 0, 12)12 - AIC:327.5955004314904\n",
      "ARIMA(0, 2, 0)x(2, 0, 1, 12)12 - AIC:791.776275756543\n",
      "ARIMA(0, 2, 0)x(2, 0, 2, 12)12 - AIC:312.20571264701584\n",
      "ARIMA(0, 2, 0)x(2, 1, 0, 12)12 - AIC:143.52744982862228\n",
      "ARIMA(0, 2, 0)x(2, 1, 1, 12)12 - AIC:145.0966855089078\n",
      "ARIMA(0, 2, 0)x(2, 1, 2, 12)12 - AIC:132.67717309134923\n",
      "ARIMA(0, 2, 0)x(2, 2, 0, 12)12 - AIC:6.0\n",
      "ARIMA(0, 2, 0)x(2, 2, 1, 12)12 - AIC:8.0\n",
      "ARIMA(0, 2, 0)x(2, 2, 2, 12)12 - AIC:10.0\n",
      "ARIMA(0, 2, 1)x(0, 0, 0, 12)12 - AIC:652.86859652074\n",
      "ARIMA(0, 2, 1)x(0, 0, 1, 12)12 - AIC:1923.2059136627763\n",
      "ARIMA(0, 2, 1)x(0, 0, 2, 12)12 - AIC:288.68590498298107\n",
      "ARIMA(0, 2, 1)x(0, 1, 0, 12)12 - AIC:463.03465442793504\n",
      "ARIMA(0, 2, 1)x(0, 1, 1, 12)12 - AIC:282.2460467105112\n",
      "ARIMA(0, 2, 1)x(0, 1, 2, 12)12 - AIC:114.8632098049327\n",
      "ARIMA(0, 2, 1)x(0, 2, 0, 12)12 - AIC:310.32852239719256\n",
      "ARIMA(0, 2, 1)x(0, 2, 1, 12)12 - AIC:112.08533450446825\n",
      "ARIMA(0, 2, 1)x(0, 2, 2, 12)12 - AIC:8.0\n",
      "ARIMA(0, 2, 1)x(1, 0, 0, 12)12 - AIC:489.9458560734461\n",
      "ARIMA(0, 2, 1)x(1, 0, 1, 12)12 - AIC:1591.3603750358166\n",
      "ARIMA(0, 2, 1)x(1, 0, 2, 12)12 - AIC:284.90865644764074\n",
      "ARIMA(0, 2, 1)x(1, 1, 0, 12)12 - AIC:310.9864728692616\n",
      "ARIMA(0, 2, 1)x(1, 1, 1, 12)12 - AIC:284.2354053257771\n",
      "ARIMA(0, 2, 1)x(1, 1, 2, 12)12 - AIC:116.65053721610461\n",
      "ARIMA(0, 2, 1)x(1, 2, 0, 12)12 - AIC:143.27935910544173\n",
      "ARIMA(0, 2, 1)x(1, 2, 1, 12)12 - AIC:116.34622123442742\n",
      "ARIMA(0, 2, 1)x(1, 2, 2, 12)12 - AIC:10.0\n",
      "ARIMA(0, 2, 1)x(2, 0, 0, 12)12 - AIC:310.50562447090283\n",
      "ARIMA(0, 2, 1)x(2, 0, 1, 12)12 - AIC:865.2868209310843\n",
      "ARIMA(0, 2, 1)x(2, 0, 2, 12)12 - AIC:284.47238652195927\n",
      "ARIMA(0, 2, 1)x(2, 1, 0, 12)12 - AIC:142.29873089455504\n",
      "ARIMA(0, 2, 1)x(2, 1, 1, 12)12 - AIC:146.62326377525835\n",
      "ARIMA(0, 2, 1)x(2, 1, 2, 12)12 - AIC:117.89102479500886\n",
      "ARIMA(0, 2, 1)x(2, 2, 0, 12)12 - AIC:8.0\n",
      "ARIMA(0, 2, 1)x(2, 2, 1, 12)12 - AIC:10.0\n",
      "ARIMA(0, 2, 1)x(2, 2, 2, 12)12 - AIC:12.0\n",
      "ARIMA(0, 2, 2)x(0, 0, 0, 12)12 - AIC:628.8859101989545\n",
      "ARIMA(0, 2, 2)x(0, 0, 1, 12)12 - AIC:1307.5284558531862\n",
      "ARIMA(0, 2, 2)x(0, 0, 2, 12)12 - AIC:273.6722936401329\n",
      "ARIMA(0, 2, 2)x(0, 1, 0, 12)12 - AIC:440.1803441342605\n",
      "ARIMA(0, 2, 2)x(0, 1, 1, 12)12 - AIC:262.06304385824217\n",
      "ARIMA(0, 2, 2)x(0, 1, 2, 12)12 - AIC:99.04347046570639\n",
      "ARIMA(0, 2, 2)x(0, 2, 0, 12)12 - AIC:294.74667970549933\n",
      "ARIMA(0, 2, 2)x(0, 2, 1, 12)12 - AIC:96.60021494493103\n",
      "ARIMA(0, 2, 2)x(0, 2, 2, 12)12 - AIC:10.0\n",
      "ARIMA(0, 2, 2)x(1, 0, 0, 12)12 - AIC:482.9003702903265\n",
      "ARIMA(0, 2, 2)x(1, 0, 1, 12)12 - AIC:1291.0624119037643\n",
      "ARIMA(0, 2, 2)x(1, 0, 2, 12)12 - AIC:269.3538462873988\n",
      "ARIMA(0, 2, 2)x(1, 1, 0, 12)12 - AIC:305.8984452621529\n",
      "ARIMA(0, 2, 2)x(1, 1, 1, 12)12 - AIC:263.5280053305296\n",
      "ARIMA(0, 2, 2)x(1, 1, 2, 12)12 - AIC:101.07589790104501\n",
      "ARIMA(0, 2, 2)x(1, 2, 0, 12)12 - AIC:145.59346405934156\n",
      "ARIMA(0, 2, 2)x(1, 2, 1, 12)12 - AIC:98.89733556529602\n",
      "ARIMA(0, 2, 2)x(1, 2, 2, 12)12 - AIC:12.0\n",
      "ARIMA(0, 2, 2)x(2, 0, 0, 12)12 - AIC:306.32807721623243\n",
      "ARIMA(0, 2, 2)x(2, 0, 1, 12)12 - AIC:922.502546137504\n",
      "ARIMA(0, 2, 2)x(2, 0, 2, 12)12 - AIC:269.38861640759916\n",
      "ARIMA(0, 2, 2)x(2, 1, 0, 12)12 - AIC:140.85692483532708\n",
      "ARIMA(0, 2, 2)x(2, 1, 1, 12)12 - AIC:143.3943798423897\n",
      "ARIMA(0, 2, 2)x(2, 1, 2, 12)12 - AIC:106.97224788893526\n",
      "ARIMA(0, 2, 2)x(2, 2, 0, 12)12 - AIC:10.0\n",
      "ARIMA(0, 2, 2)x(2, 2, 1, 12)12 - AIC:12.0\n",
      "ARIMA(0, 2, 2)x(2, 2, 2, 12)12 - AIC:14.0\n",
      "ARIMA(1, 0, 0)x(0, 0, 0, 12)12 - AIC:692.1645522067712\n",
      "ARIMA(1, 0, 0)x(0, 0, 1, 12)12 - AIC:1351.8345449329308\n",
      "ARIMA(1, 0, 0)x(0, 0, 2, 12)12 - AIC:329.8577321597411\n",
      "ARIMA(1, 0, 0)x(0, 1, 0, 12)12 - AIC:479.46321478521355\n",
      "ARIMA(1, 0, 0)x(0, 1, 1, 12)12 - AIC:304.20776751609634\n",
      "ARIMA(1, 0, 0)x(0, 1, 2, 12)12 - AIC:148.4686630187317\n",
      "ARIMA(1, 0, 0)x(0, 2, 0, 12)12 - AIC:338.22248101866865\n",
      "ARIMA(1, 0, 0)x(0, 2, 1, 12)12 - AIC:151.845078318026\n",
      "ARIMA(1, 0, 0)x(0, 2, 2, 12)12 - AIC:8.0\n",
      "ARIMA(1, 0, 0)x(1, 0, 0, 12)12 - AIC:480.9259367935205\n",
      "ARIMA(1, 0, 0)x(1, 0, 1, 12)12 - AIC:1330.9617387405865\n",
      "ARIMA(1, 0, 0)x(1, 0, 2, 12)12 - AIC:311.9208437102283\n",
      "ARIMA(1, 0, 0)x(1, 1, 0, 12)12 - AIC:304.4664675084601\n",
      "ARIMA(1, 0, 0)x(1, 1, 1, 12)12 - AIC:304.5842692143842\n",
      "ARIMA(1, 0, 0)x(1, 1, 2, 12)12 - AIC:150.46626422815746\n",
      "ARIMA(1, 0, 0)x(1, 2, 0, 12)12 - AIC:151.3882036756147\n",
      "ARIMA(1, 0, 0)x(1, 2, 1, 12)12 - AIC:153.29407899452193\n",
      "ARIMA(1, 0, 0)x(1, 2, 2, 12)12 - AIC:10.0\n",
      "ARIMA(1, 0, 0)x(2, 0, 0, 12)12 - AIC:306.4639496842715\n",
      "ARIMA(1, 0, 0)x(2, 0, 1, 12)12 - AIC:653.7298968804282\n",
      "ARIMA(1, 0, 0)x(2, 0, 2, 12)12 - AIC:309.81094133452814\n",
      "ARIMA(1, 0, 0)x(2, 1, 0, 12)12 - AIC:148.47129149084404\n",
      "ARIMA(1, 0, 0)x(2, 1, 1, 12)12 - AIC:150.47090738533188\n",
      "ARIMA(1, 0, 0)x(2, 1, 2, 12)12 - AIC:152.4620703643621\n",
      "ARIMA(1, 0, 0)x(2, 2, 0, 12)12 - AIC:8.0\n",
      "ARIMA(1, 0, 0)x(2, 2, 1, 12)12 - AIC:10.0\n",
      "ARIMA(1, 0, 0)x(2, 2, 2, 12)12 - AIC:12.0\n",
      "ARIMA(1, 0, 1)x(0, 0, 0, 12)12 - AIC:665.7794442186682\n",
      "ARIMA(1, 0, 1)x(0, 0, 1, 12)12 - AIC:2478.6547412643076\n",
      "ARIMA(1, 0, 1)x(0, 0, 2, 12)12 - AIC:311.0682307550393\n",
      "ARIMA(1, 0, 1)x(0, 1, 0, 12)12 - AIC:468.36851958150515\n",
      "ARIMA(1, 0, 1)x(0, 1, 1, 12)12 - AIC:293.3422193965943\n",
      "ARIMA(1, 0, 1)x(0, 1, 2, 12)12 - AIC:137.44660513876138\n",
      "ARIMA(1, 0, 1)x(0, 2, 0, 12)12 - AIC:326.36049011937195\n",
      "ARIMA(1, 0, 1)x(0, 2, 1, 12)12 - AIC:140.006605474696\n",
      "ARIMA(1, 0, 1)x(0, 2, 2, 12)12 - AIC:10.0\n",
      "ARIMA(1, 0, 1)x(1, 0, 0, 12)12 - AIC:482.57633238771155\n",
      "ARIMA(1, 0, 1)x(1, 0, 1, 12)12 - AIC:2317.9971840727026\n",
      "ARIMA(1, 0, 1)x(1, 0, 2, 12)12 - AIC:301.0096321541939\n",
      "ARIMA(1, 0, 1)x(1, 1, 0, 12)12 - AIC:306.0156002104652\n",
      "ARIMA(1, 0, 1)x(1, 1, 1, 12)12 - AIC:293.75131881841475\n",
      "ARIMA(1, 0, 1)x(1, 1, 2, 12)12 - AIC:139.59955609039346\n",
      "ARIMA(1, 0, 1)x(1, 2, 0, 12)12 - AIC:153.45916388761205\n",
      "ARIMA(1, 0, 1)x(1, 2, 1, 12)12 - AIC:138.87977123144574\n",
      "ARIMA(1, 0, 1)x(1, 2, 2, 12)12 - AIC:12.0\n",
      "ARIMA(1, 0, 1)x(2, 0, 0, 12)12 - AIC:309.7096567880676\n",
      "ARIMA(1, 0, 1)x(2, 0, 1, 12)12 - AIC:893.4493229598911\n",
      "ARIMA(1, 0, 1)x(2, 0, 2, 12)12 - AIC:298.77890974003543\n",
      "ARIMA(1, 0, 1)x(2, 1, 0, 12)12 - AIC:148.64415341277936\n",
      "ARIMA(1, 0, 1)x(2, 1, 1, 12)12 - AIC:152.44503996339833\n",
      "ARIMA(1, 0, 1)x(2, 1, 2, 12)12 - AIC:136.3038622004852\n",
      "ARIMA(1, 0, 1)x(2, 2, 0, 12)12 - AIC:10.0\n",
      "ARIMA(1, 0, 1)x(2, 2, 1, 12)12 - AIC:12.0\n",
      "ARIMA(1, 0, 1)x(2, 2, 2, 12)12 - AIC:14.0\n",
      "ARIMA(1, 0, 2)x(0, 0, 0, 12)12 - AIC:652.5371565506746\n",
      "ARIMA(1, 0, 2)x(0, 0, 1, 12)12 - AIC:2493.3723976823744\n",
      "ARIMA(1, 0, 2)x(0, 0, 2, 12)12 - AIC:298.3766584549822\n",
      "ARIMA(1, 0, 2)x(0, 1, 0, 12)12 - AIC:454.51625971600055\n",
      "ARIMA(1, 0, 2)x(0, 1, 1, 12)12 - AIC:277.75889275949635\n",
      "ARIMA(1, 0, 2)x(0, 1, 2, 12)12 - AIC:122.83844516429204\n",
      "ARIMA(1, 0, 2)x(0, 2, 0, 12)12 - AIC:311.96866882602694\n",
      "ARIMA(1, 0, 2)x(0, 2, 1, 12)12 - AIC:120.25982062671619\n",
      "ARIMA(1, 0, 2)x(0, 2, 2, 12)12 - AIC:12.0\n",
      "ARIMA(1, 0, 2)x(1, 0, 0, 12)12 - AIC:483.94357962168624\n",
      "ARIMA(1, 0, 2)x(1, 0, 1, 12)12 - AIC:2195.919764123876\n",
      "ARIMA(1, 0, 2)x(1, 0, 2, 12)12 - AIC:290.99093603169104\n",
      "ARIMA(1, 0, 2)x(1, 1, 0, 12)12 - AIC:305.84607229018854\n",
      "ARIMA(1, 0, 2)x(1, 1, 1, 12)12 - AIC:279.7400731916846\n",
      "ARIMA(1, 0, 2)x(1, 1, 2, 12)12 - AIC:124.37991145676976\n",
      "ARIMA(1, 0, 2)x(1, 2, 0, 12)12 - AIC:153.2389209194784\n",
      "ARIMA(1, 0, 2)x(1, 2, 1, 12)12 - AIC:119.57761504029382\n",
      "ARIMA(1, 0, 2)x(1, 2, 2, 12)12 - AIC:14.0\n",
      "ARIMA(1, 0, 2)x(2, 0, 0, 12)12 - AIC:309.00667933544577\n",
      "ARIMA(1, 0, 2)x(2, 0, 1, 12)12 - AIC:771.2512658997065\n",
      "ARIMA(1, 0, 2)x(2, 0, 2, 12)12 - AIC:286.26927757083826\n",
      "ARIMA(1, 0, 2)x(2, 1, 0, 12)12 - AIC:150.64208002269888\n",
      "ARIMA(1, 0, 2)x(2, 1, 1, 12)12 - AIC:152.6884148567957\n",
      "ARIMA(1, 0, 2)x(2, 1, 2, 12)12 - AIC:126.97272971888464\n",
      "ARIMA(1, 0, 2)x(2, 2, 0, 12)12 - AIC:12.0\n",
      "ARIMA(1, 0, 2)x(2, 2, 1, 12)12 - AIC:14.0\n",
      "ARIMA(1, 0, 2)x(2, 2, 2, 12)12 - AIC:16.0\n",
      "ARIMA(1, 1, 0)x(0, 0, 0, 12)12 - AIC:671.2513547541902\n",
      "ARIMA(1, 1, 0)x(0, 0, 1, 12)12 - AIC:92578348515722.19\n",
      "ARIMA(1, 1, 0)x(0, 0, 2, 12)12 - AIC:313.8089614372738\n",
      "ARIMA(1, 1, 0)x(0, 1, 0, 12)12 - AIC:479.2003422281135\n",
      "ARIMA(1, 1, 0)x(0, 1, 1, 12)12 - AIC:300.21306116190925\n",
      "ARIMA(1, 1, 0)x(0, 1, 2, 12)12 - AIC:141.07356676371384\n",
      "ARIMA(1, 1, 0)x(0, 2, 0, 12)12 - AIC:332.39565976239555\n",
      "ARIMA(1, 1, 0)x(0, 2, 1, 12)12 - AIC:140.96246737935002\n",
      "ARIMA(1, 1, 0)x(0, 2, 2, 12)12 - AIC:8.0\n",
      "ARIMA(1, 1, 0)x(1, 0, 0, 12)12 - AIC:475.3403658784625\n",
      "ARIMA(1, 1, 0)x(1, 0, 1, 12)12 - AIC:1281.9609013936335\n",
      "ARIMA(1, 1, 0)x(1, 0, 2, 12)12 - AIC:305.3595519912119\n",
      "ARIMA(1, 1, 0)x(1, 1, 0, 12)12 - AIC:300.62709013454037\n",
      "ARIMA(1, 1, 0)x(1, 1, 1, 12)12 - AIC:302.32649925054403\n",
      "ARIMA(1, 1, 0)x(1, 1, 2, 12)12 - AIC:143.05792041351356\n",
      "ARIMA(1, 1, 0)x(1, 2, 0, 12)12 - AIC:140.97940432822045\n",
      "ARIMA(1, 1, 0)x(1, 2, 1, 12)12 - AIC:142.4449445803252\n",
      "ARIMA(1, 1, 0)x(1, 2, 2, 12)12 - AIC:10.0\n",
      "ARIMA(1, 1, 0)x(2, 0, 0, 12)12 - AIC:301.76885242896054\n",
      "ARIMA(1, 1, 0)x(2, 0, 1, 12)12 - AIC:844.1995597064727\n",
      "ARIMA(1, 1, 0)x(2, 0, 2, 12)12 - AIC:305.5489372391515\n",
      "ARIMA(1, 1, 0)x(2, 1, 0, 12)12 - AIC:141.03361172509668\n",
      "ARIMA(1, 1, 0)x(2, 1, 1, 12)12 - AIC:142.93320304976183\n",
      "ARIMA(1, 1, 0)x(2, 1, 2, 12)12 - AIC:144.93321200349675\n",
      "ARIMA(1, 1, 0)x(2, 2, 0, 12)12 - AIC:8.0\n",
      "ARIMA(1, 1, 0)x(2, 2, 1, 12)12 - AIC:10.0\n",
      "ARIMA(1, 1, 0)x(2, 2, 2, 12)12 - AIC:12.0\n",
      "ARIMA(1, 1, 1)x(0, 0, 0, 12)12 - AIC:649.0318019835279\n",
      "ARIMA(1, 1, 1)x(0, 0, 1, 12)12 - AIC:2217.25911204323\n",
      "ARIMA(1, 1, 1)x(0, 0, 2, 12)12 - AIC:296.2925705543583\n",
      "ARIMA(1, 1, 1)x(0, 1, 0, 12)12 - AIC:460.4762687610562\n",
      "ARIMA(1, 1, 1)x(0, 1, 1, 12)12 - AIC:281.38730069394364\n",
      "ARIMA(1, 1, 1)x(0, 1, 2, 12)12 - AIC:126.23923691684641\n",
      "ARIMA(1, 1, 1)x(0, 2, 0, 12)12 - AIC:317.9907754347605\n",
      "ARIMA(1, 1, 1)x(0, 2, 1, 12)12 - AIC:127.02337312434507\n",
      "ARIMA(1, 1, 1)x(0, 2, 2, 12)12 - AIC:10.0\n",
      "ARIMA(1, 1, 1)x(1, 0, 0, 12)12 - AIC:469.52503546607664\n",
      "ARIMA(1, 1, 1)x(1, 0, 1, 12)12 - AIC:438.7623550413897\n",
      "ARIMA(1, 1, 1)x(1, 0, 2, 12)12 - AIC:289.50320986862033\n",
      "ARIMA(1, 1, 1)x(1, 1, 0, 12)12 - AIC:297.7875439536991\n",
      "ARIMA(1, 1, 1)x(1, 1, 1, 12)12 - AIC:283.36610170385944\n",
      "ARIMA(1, 1, 1)x(1, 1, 2, 12)12 - AIC:128.07390204224083\n",
      "ARIMA(1, 1, 1)x(1, 2, 0, 12)12 - AIC:139.89884389570324\n",
      "ARIMA(1, 1, 1)x(1, 2, 1, 12)12 - AIC:126.41574490589082\n",
      "ARIMA(1, 1, 1)x(1, 2, 2, 12)12 - AIC:12.0\n",
      "ARIMA(1, 1, 1)x(2, 0, 0, 12)12 - AIC:304.8135321454428\n",
      "ARIMA(1, 1, 1)x(2, 0, 1, 12)12 - AIC:870.4746054677427\n",
      "ARIMA(1, 1, 1)x(2, 0, 2, 12)12 - AIC:289.1754727709717\n",
      "ARIMA(1, 1, 1)x(2, 1, 0, 12)12 - AIC:138.3371436517988\n",
      "ARIMA(1, 1, 1)x(2, 1, 1, 12)12 - AIC:140.32911071606605\n",
      "ARIMA(1, 1, 1)x(2, 1, 2, 12)12 - AIC:130.24786493156464\n",
      "ARIMA(1, 1, 1)x(2, 2, 0, 12)12 - AIC:10.0\n",
      "ARIMA(1, 1, 1)x(2, 2, 1, 12)12 - AIC:12.0\n",
      "ARIMA(1, 1, 1)x(2, 2, 2, 12)12 - AIC:14.0\n",
      "ARIMA(1, 1, 2)x(0, 0, 0, 12)12 - AIC:636.8790377892454\n",
      "ARIMA(1, 1, 2)x(0, 0, 1, 12)12 - AIC:615.4572688958149\n",
      "ARIMA(1, 1, 2)x(0, 0, 2, 12)12 - AIC:280.9458311083637\n",
      "ARIMA(1, 1, 2)x(0, 1, 0, 12)12 - AIC:449.4788858975292\n",
      "ARIMA(1, 1, 2)x(0, 1, 1, 12)12 - AIC:270.58058801657893\n",
      "ARIMA(1, 1, 2)x(0, 1, 2, 12)12 - AIC:110.64989108679225\n",
      "ARIMA(1, 1, 2)x(0, 2, 0, 12)12 - AIC:305.7151397158985\n",
      "ARIMA(1, 1, 2)x(0, 2, 1, 12)12 - AIC:111.61923203887736\n",
      "ARIMA(1, 1, 2)x(0, 2, 2, 12)12 - AIC:12.0\n",
      "ARIMA(1, 1, 2)x(1, 0, 0, 12)12 - AIC:471.0555765130939\n",
      "ARIMA(1, 1, 2)x(1, 0, 1, 12)12 - AIC:1940.0029277391877\n",
      "ARIMA(1, 1, 2)x(1, 0, 2, 12)12 - AIC:278.2302878358192\n",
      "ARIMA(1, 1, 2)x(1, 1, 0, 12)12 - AIC:300.331843328796\n",
      "ARIMA(1, 1, 2)x(1, 1, 1, 12)12 - AIC:273.2015306565269\n",
      "ARIMA(1, 1, 2)x(1, 1, 2, 12)12 - AIC:110.86732842799711\n",
      "ARIMA(1, 1, 2)x(1, 2, 0, 12)12 - AIC:142.46380187455833\n",
      "ARIMA(1, 1, 2)x(1, 2, 1, 12)12 - AIC:112.02924105042229\n",
      "ARIMA(1, 1, 2)x(1, 2, 2, 12)12 - AIC:14.0\n",
      "ARIMA(1, 1, 2)x(2, 0, 0, 12)12 - AIC:302.21776808357214\n",
      "ARIMA(1, 1, 2)x(2, 0, 1, 12)12 - AIC:901.2905540758793\n",
      "ARIMA(1, 1, 2)x(2, 0, 2, 12)12 - AIC:278.5193941305676\n",
      "ARIMA(1, 1, 2)x(2, 1, 0, 12)12 - AIC:140.739225117463\n",
      "ARIMA(1, 1, 2)x(2, 1, 1, 12)12 - AIC:142.22903479290179\n",
      "ARIMA(1, 1, 2)x(2, 1, 2, 12)12 - AIC:112.86540581710135\n",
      "ARIMA(1, 1, 2)x(2, 2, 0, 12)12 - AIC:12.0\n",
      "ARIMA(1, 1, 2)x(2, 2, 1, 12)12 - AIC:14.0\n",
      "ARIMA(1, 1, 2)x(2, 2, 2, 12)12 - AIC:16.0\n",
      "ARIMA(1, 2, 0)x(0, 0, 0, 12)12 - AIC:691.2298181871188\n",
      "ARIMA(1, 2, 0)x(0, 0, 1, 12)12 - AIC:1142.7279728360456\n",
      "ARIMA(1, 2, 0)x(0, 0, 2, 12)12 - AIC:314.20978872994374\n",
      "ARIMA(1, 2, 0)x(0, 1, 0, 12)12 - AIC:487.72549582761314\n",
      "ARIMA(1, 2, 0)x(0, 1, 1, 12)12 - AIC:301.91514986776457\n",
      "ARIMA(1, 2, 0)x(0, 1, 2, 12)12 - AIC:130.7732394713001\n",
      "ARIMA(1, 2, 0)x(0, 2, 0, 12)12 - AIC:326.75644156583337\n",
      "ARIMA(1, 2, 0)x(0, 2, 1, 12)12 - AIC:129.58856438121717\n",
      "ARIMA(1, 2, 0)x(0, 2, 2, 12)12 - AIC:8.0\n",
      "ARIMA(1, 2, 0)x(1, 0, 0, 12)12 - AIC:485.7746885900556\n",
      "ARIMA(1, 2, 0)x(1, 0, 1, 12)12 - AIC:1066.960089423432\n",
      "ARIMA(1, 2, 0)x(1, 0, 2, 12)12 - AIC:303.733299306492\n",
      "ARIMA(1, 2, 0)x(1, 1, 0, 12)12 - AIC:302.0552143225276\n",
      "ARIMA(1, 2, 0)x(1, 1, 1, 12)12 - AIC:302.47454706121346\n",
      "ARIMA(1, 2, 0)x(1, 1, 2, 12)12 - AIC:132.877623213329\n",
      "ARIMA(1, 2, 0)x(1, 2, 0, 12)12 - AIC:129.59004245504025\n",
      "ARIMA(1, 2, 0)x(1, 2, 1, 12)12 - AIC:131.58851842710615\n",
      "ARIMA(1, 2, 0)x(1, 2, 2, 12)12 - AIC:10.0\n",
      "ARIMA(1, 2, 0)x(2, 0, 0, 12)12 - AIC:303.8385216914745\n",
      "ARIMA(1, 2, 0)x(2, 0, 1, 12)12 - AIC:721.0621827546544\n",
      "ARIMA(1, 2, 0)x(2, 0, 2, 12)12 - AIC:303.83029228244214\n",
      "ARIMA(1, 2, 0)x(2, 1, 0, 12)12 - AIC:130.86502683926477\n",
      "ARIMA(1, 2, 0)x(2, 1, 1, 12)12 - AIC:132.55791651175537\n",
      "ARIMA(1, 2, 0)x(2, 1, 2, 12)12 - AIC:134.60016403217742\n",
      "ARIMA(1, 2, 0)x(2, 2, 0, 12)12 - AIC:8.0\n",
      "ARIMA(1, 2, 0)x(2, 2, 1, 12)12 - AIC:10.0\n",
      "ARIMA(1, 2, 0)x(2, 2, 2, 12)12 - AIC:12.0\n",
      "ARIMA(1, 2, 1)x(0, 0, 0, 12)12 - AIC:647.5183048786976\n",
      "ARIMA(1, 2, 1)x(0, 0, 1, 12)12 - AIC:160.78842123334763\n",
      "ARIMA(1, 2, 1)x(0, 0, 2, 12)12 - AIC:288.0088549034114\n",
      "ARIMA(1, 2, 1)x(0, 1, 0, 12)12 - AIC:455.9868411970369\n",
      "ARIMA(1, 2, 1)x(0, 1, 1, 12)12 - AIC:278.8955672587465\n",
      "ARIMA(1, 2, 1)x(0, 1, 2, 12)12 - AIC:116.13948298196125\n",
      "ARIMA(1, 2, 1)x(0, 2, 0, 12)12 - AIC:308.33975356019715\n",
      "ARIMA(1, 2, 1)x(0, 2, 1, 12)12 - AIC:116.30507436881696\n",
      "ARIMA(1, 2, 1)x(0, 2, 2, 12)12 - AIC:10.0\n",
      "ARIMA(1, 2, 1)x(1, 0, 0, 12)12 - AIC:470.8350262821525\n",
      "ARIMA(1, 2, 1)x(1, 0, 1, 12)12 - AIC:2119.4096347941368\n",
      "ARIMA(1, 2, 1)x(1, 0, 2, 12)12 - AIC:284.0805870273456\n",
      "ARIMA(1, 2, 1)x(1, 1, 0, 12)12 - AIC:293.09174468287733\n",
      "ARIMA(1, 2, 1)x(1, 1, 1, 12)12 - AIC:280.8604639141521\n",
      "ARIMA(1, 2, 1)x(1, 1, 2, 12)12 - AIC:117.96613819139395\n",
      "ARIMA(1, 2, 1)x(1, 2, 0, 12)12 - AIC:129.02995061196495\n",
      "ARIMA(1, 2, 1)x(1, 2, 1, 12)12 - AIC:109.9537722527496\n",
      "ARIMA(1, 2, 1)x(1, 2, 2, 12)12 - AIC:12.0\n",
      "ARIMA(1, 2, 1)x(2, 0, 0, 12)12 - AIC:293.76780130293434\n",
      "ARIMA(1, 2, 1)x(2, 0, 1, 12)12 - AIC:974.8921946127707\n",
      "ARIMA(1, 2, 1)x(2, 0, 2, 12)12 - AIC:284.1402254198679\n",
      "ARIMA(1, 2, 1)x(2, 1, 0, 12)12 - AIC:130.67250513581263\n",
      "ARIMA(1, 2, 1)x(2, 1, 1, 12)12 - AIC:132.09165457044617\n",
      "ARIMA(1, 2, 1)x(2, 1, 2, 12)12 - AIC:120.20571845848971\n",
      "ARIMA(1, 2, 1)x(2, 2, 0, 12)12 - AIC:10.0\n",
      "ARIMA(1, 2, 1)x(2, 2, 1, 12)12 - AIC:12.0\n",
      "ARIMA(1, 2, 1)x(2, 2, 2, 12)12 - AIC:14.0\n",
      "ARIMA(1, 2, 2)x(0, 0, 0, 12)12 - AIC:629.3897471380502\n",
      "ARIMA(1, 2, 2)x(0, 0, 1, 12)12 - AIC:695.2049201377242\n",
      "ARIMA(1, 2, 2)x(0, 0, 2, 12)12 - AIC:274.8113495609556\n",
      "ARIMA(1, 2, 2)x(0, 1, 0, 12)12 - AIC:442.0816341806909\n",
      "ARIMA(1, 2, 2)x(0, 1, 1, 12)12 - AIC:263.8087681677225\n",
      "ARIMA(1, 2, 2)x(0, 1, 2, 12)12 - AIC:99.3837957270796\n",
      "ARIMA(1, 2, 2)x(0, 2, 0, 12)12 - AIC:294.56278264589724\n",
      "ARIMA(1, 2, 2)x(0, 2, 1, 12)12 - AIC:107.52905242520603\n",
      "ARIMA(1, 2, 2)x(0, 2, 2, 12)12 - AIC:12.0\n",
      "ARIMA(1, 2, 2)x(1, 0, 0, 12)12 - AIC:470.5931795420545\n",
      "ARIMA(1, 2, 2)x(1, 0, 1, 12)12 - AIC:2351.7666542292163\n",
      "ARIMA(1, 2, 2)x(1, 0, 2, 12)12 - AIC:270.9199137419287\n",
      "ARIMA(1, 2, 2)x(1, 1, 0, 12)12 - AIC:293.34659545529365\n",
      "ARIMA(1, 2, 2)x(1, 1, 1, 12)12 - AIC:265.43062099919905\n",
      "ARIMA(1, 2, 2)x(1, 1, 2, 12)12 - AIC:103.359647471807\n",
      "ARIMA(1, 2, 2)x(1, 2, 0, 12)12 - AIC:127.95948031452305\n",
      "ARIMA(1, 2, 2)x(1, 2, 1, 12)12 - AIC:103.78512691490073\n",
      "ARIMA(1, 2, 2)x(1, 2, 2, 12)12 - AIC:14.0\n",
      "ARIMA(1, 2, 2)x(2, 0, 0, 12)12 - AIC:294.00291413855143\n",
      "ARIMA(1, 2, 2)x(2, 0, 1, 12)12 - AIC:847.5582200794682\n",
      "ARIMA(1, 2, 2)x(2, 0, 2, 12)12 - AIC:271.7882022902734\n",
      "ARIMA(1, 2, 2)x(2, 1, 0, 12)12 - AIC:129.6164309979216\n",
      "ARIMA(1, 2, 2)x(2, 1, 1, 12)12 - AIC:129.16591628126736\n",
      "ARIMA(1, 2, 2)x(2, 1, 2, 12)12 - AIC:104.42097963949948\n",
      "ARIMA(1, 2, 2)x(2, 2, 0, 12)12 - AIC:12.0\n",
      "ARIMA(1, 2, 2)x(2, 2, 1, 12)12 - AIC:14.0\n",
      "ARIMA(1, 2, 2)x(2, 2, 2, 12)12 - AIC:16.0\n",
      "ARIMA(2, 0, 0)x(0, 0, 0, 12)12 - AIC:673.0244705850719\n",
      "ARIMA(2, 0, 0)x(0, 0, 1, 12)12 - AIC:1176.9290834748708\n",
      "ARIMA(2, 0, 0)x(0, 0, 2, 12)12 - AIC:329.64455451866644\n",
      "ARIMA(2, 0, 0)x(0, 1, 0, 12)12 - AIC:468.31523432718774\n",
      "ARIMA(2, 0, 0)x(0, 1, 1, 12)12 - AIC:305.7604710918284\n",
      "ARIMA(2, 0, 0)x(0, 1, 2, 12)12 - AIC:150.46805218447508\n",
      "ARIMA(2, 0, 0)x(0, 2, 0, 12)12 - AIC:326.14328628856885\n",
      "ARIMA(2, 0, 0)x(0, 2, 1, 12)12 - AIC:153.827816755259\n",
      "ARIMA(2, 0, 0)x(0, 2, 2, 12)12 - AIC:10.0\n",
      "ARIMA(2, 0, 0)x(1, 0, 0, 12)12 - AIC:469.6045539473429\n",
      "ARIMA(2, 0, 0)x(1, 0, 1, 12)12 - AIC:1452.0935742089832\n",
      "ARIMA(2, 0, 0)x(1, 0, 2, 12)12 - AIC:312.85451583454284\n",
      "ARIMA(2, 0, 0)x(1, 1, 0, 12)12 - AIC:293.56946448407103\n",
      "ARIMA(2, 0, 0)x(1, 1, 1, 12)12 - AIC:295.36059734624394\n",
      "ARIMA(2, 0, 0)x(1, 1, 2, 12)12 - AIC:152.46824235996422\n",
      "ARIMA(2, 0, 0)x(1, 2, 0, 12)12 - AIC:134.47815433040358\n",
      "ARIMA(2, 0, 0)x(1, 2, 1, 12)12 - AIC:136.1311531892771\n",
      "ARIMA(2, 0, 0)x(1, 2, 2, 12)12 - AIC:12.0\n",
      "ARIMA(2, 0, 0)x(2, 0, 0, 12)12 - AIC:295.5281909723544\n",
      "ARIMA(2, 0, 0)x(2, 0, 1, 12)12 - AIC:800.8370551182132\n",
      "ARIMA(2, 0, 0)x(2, 0, 2, 12)12 - AIC:299.18985000768373\n",
      "ARIMA(2, 0, 0)x(2, 1, 0, 12)12 - AIC:136.04020418831306\n",
      "ARIMA(2, 0, 0)x(2, 1, 1, 12)12 - AIC:137.5562415711658\n",
      "ARIMA(2, 0, 0)x(2, 1, 2, 12)12 - AIC:136.95151805413064\n",
      "ARIMA(2, 0, 0)x(2, 2, 0, 12)12 - AIC:10.0\n",
      "ARIMA(2, 0, 0)x(2, 2, 1, 12)12 - AIC:12.0\n",
      "ARIMA(2, 0, 0)x(2, 2, 2, 12)12 - AIC:14.0\n",
      "ARIMA(2, 0, 1)x(0, 0, 0, 12)12 - AIC:665.7944839756038\n",
      "ARIMA(2, 0, 1)x(0, 0, 1, 12)12 - AIC:2504.9243702226395\n",
      "ARIMA(2, 0, 1)x(0, 0, 2, 12)12 - AIC:312.89732129935635\n",
      "ARIMA(2, 0, 1)x(0, 1, 0, 12)12 - AIC:469.8069210953047\n",
      "ARIMA(2, 0, 1)x(0, 1, 1, 12)12 - AIC:295.31054163466416\n",
      "ARIMA(2, 0, 1)x(0, 1, 2, 12)12 - AIC:133.76686498897433\n",
      "ARIMA(2, 0, 1)x(0, 2, 0, 12)12 - AIC:326.614890128459\n",
      "ARIMA(2, 0, 1)x(0, 2, 1, 12)12 - AIC:136.21808610752817\n",
      "ARIMA(2, 0, 1)x(0, 2, 2, 12)12 - AIC:12.0\n",
      "ARIMA(2, 0, 1)x(1, 0, 0, 12)12 - AIC:471.1558179304234\n",
      "ARIMA(2, 0, 1)x(1, 0, 1, 12)12 - AIC:2364.6229499540523\n",
      "ARIMA(2, 0, 1)x(1, 0, 2, 12)12 - AIC:301.84345064077667\n",
      "ARIMA(2, 0, 1)x(1, 1, 0, 12)12 - AIC:294.1493643250268\n",
      "ARIMA(2, 0, 1)x(1, 1, 1, 12)12 - AIC:293.23617789267973\n",
      "ARIMA(2, 0, 1)x(1, 1, 2, 12)12 - AIC:135.97501451329373\n",
      "ARIMA(2, 0, 1)x(1, 2, 0, 12)12 - AIC:136.1522625270152\n",
      "ARIMA(2, 0, 1)x(1, 2, 1, 12)12 - AIC:144.82684309263098\n",
      "ARIMA(2, 0, 1)x(1, 2, 2, 12)12 - AIC:14.0\n",
      "ARIMA(2, 0, 1)x(2, 0, 0, 12)12 - AIC:295.93337012038774\n",
      "ARIMA(2, 0, 1)x(2, 0, 1, 12)12 - AIC:798.4128455136214\n",
      "ARIMA(2, 0, 1)x(2, 0, 2, 12)12 - AIC:299.92304480231786\n",
      "ARIMA(2, 0, 1)x(2, 1, 0, 12)12 - AIC:133.5927226385798\n",
      "ARIMA(2, 0, 1)x(2, 1, 1, 12)12 - AIC:140.46629516986172\n",
      "ARIMA(2, 0, 1)x(2, 1, 2, 12)12 - AIC:144.10207829268626\n",
      "ARIMA(2, 0, 1)x(2, 2, 0, 12)12 - AIC:12.0\n",
      "ARIMA(2, 0, 1)x(2, 2, 1, 12)12 - AIC:14.0\n",
      "ARIMA(2, 0, 1)x(2, 2, 2, 12)12 - AIC:16.0\n",
      "ARIMA(2, 0, 2)x(0, 0, 0, 12)12 - AIC:653.6818630915226\n",
      "ARIMA(2, 0, 2)x(0, 0, 1, 12)12 - AIC:1011.157504630212\n",
      "ARIMA(2, 0, 2)x(0, 0, 2, 12)12 - AIC:296.60391540691586\n",
      "ARIMA(2, 0, 2)x(0, 1, 0, 12)12 - AIC:453.6893814543604\n",
      "ARIMA(2, 0, 2)x(0, 1, 1, 12)12 - AIC:276.323028005154\n",
      "ARIMA(2, 0, 2)x(0, 1, 2, 12)12 - AIC:123.3671641776164\n",
      "ARIMA(2, 0, 2)x(0, 2, 0, 12)12 - AIC:314.45821367129787\n",
      "ARIMA(2, 0, 2)x(0, 2, 1, 12)12 - AIC:125.38222900744712\n",
      "ARIMA(2, 0, 2)x(0, 2, 2, 12)12 - AIC:14.0\n",
      "ARIMA(2, 0, 2)x(1, 0, 0, 12)12 - AIC:471.84787714598036\n",
      "ARIMA(2, 0, 2)x(1, 0, 1, 12)12 - AIC:1634.4413026337697\n",
      "ARIMA(2, 0, 2)x(1, 0, 2, 12)12 - AIC:292.96759363852135\n",
      "ARIMA(2, 0, 2)x(1, 1, 0, 12)12 - AIC:288.5615166810478\n",
      "ARIMA(2, 0, 2)x(1, 1, 1, 12)12 - AIC:279.98108978172104\n",
      "ARIMA(2, 0, 2)x(1, 1, 2, 12)12 - AIC:126.90502468314774\n",
      "ARIMA(2, 0, 2)x(1, 2, 0, 12)12 - AIC:135.25203411519124\n",
      "ARIMA(2, 0, 2)x(1, 2, 1, 12)12 - AIC:126.73402150120904\n",
      "ARIMA(2, 0, 2)x(1, 2, 2, 12)12 - AIC:16.0\n",
      "ARIMA(2, 0, 2)x(2, 0, 0, 12)12 - AIC:292.2543918471036\n",
      "ARIMA(2, 0, 2)x(2, 0, 1, 12)12 - AIC:914.7957278573601\n",
      "ARIMA(2, 0, 2)x(2, 0, 2, 12)12 - AIC:291.9522329283032\n",
      "ARIMA(2, 0, 2)x(2, 1, 0, 12)12 - AIC:133.44448619122247\n",
      "ARIMA(2, 0, 2)x(2, 1, 1, 12)12 - AIC:133.60560787185165\n",
      "ARIMA(2, 0, 2)x(2, 1, 2, 12)12 - AIC:127.55508900136466\n",
      "ARIMA(2, 0, 2)x(2, 2, 0, 12)12 - AIC:14.0\n",
      "ARIMA(2, 0, 2)x(2, 2, 1, 12)12 - AIC:16.0\n",
      "ARIMA(2, 0, 2)x(2, 2, 2, 12)12 - AIC:18.0\n",
      "ARIMA(2, 1, 0)x(0, 0, 0, 12)12 - AIC:651.8913365664915\n",
      "ARIMA(2, 1, 0)x(0, 0, 1, 12)12 - AIC:1440.6640614274422\n",
      "ARIMA(2, 1, 0)x(0, 0, 2, 12)12 - AIC:309.7535736446842\n",
      "ARIMA(2, 1, 0)x(0, 1, 0, 12)12 - AIC:464.89194824201576\n",
      "ARIMA(2, 1, 0)x(0, 1, 1, 12)12 - AIC:300.2707267612258\n",
      "ARIMA(2, 1, 0)x(0, 1, 2, 12)12 - AIC:140.40064933246921\n",
      "ARIMA(2, 1, 0)x(0, 2, 0, 12)12 - AIC:318.67122575690234\n",
      "ARIMA(2, 1, 0)x(0, 2, 1, 12)12 - AIC:142.91921627443907\n",
      "ARIMA(2, 1, 0)x(0, 2, 2, 12)12 - AIC:10.0\n",
      "ARIMA(2, 1, 0)x(1, 0, 0, 12)12 - AIC:461.9777969139447\n",
      "ARIMA(2, 1, 0)x(1, 0, 1, 12)12 - AIC:1243.0658499753931\n",
      "ARIMA(2, 1, 0)x(1, 0, 2, 12)12 - AIC:305.5688551734146\n",
      "ARIMA(2, 1, 0)x(1, 1, 0, 12)12 - AIC:288.3935650417695\n",
      "ARIMA(2, 1, 0)x(1, 1, 1, 12)12 - AIC:289.3238295140163\n",
      "ARIMA(2, 1, 0)x(1, 1, 2, 12)12 - AIC:142.36874970118993\n",
      "ARIMA(2, 1, 0)x(1, 2, 0, 12)12 - AIC:127.60471418792038\n",
      "ARIMA(2, 1, 0)x(1, 2, 1, 12)12 - AIC:129.25303712415354\n",
      "ARIMA(2, 1, 0)x(1, 2, 2, 12)12 - AIC:12.0\n",
      "ARIMA(2, 1, 0)x(2, 0, 0, 12)12 - AIC:288.75986983712266\n",
      "ARIMA(2, 1, 0)x(2, 0, 1, 12)12 - AIC:786.5839783651653\n",
      "ARIMA(2, 1, 0)x(2, 0, 2, 12)12 - AIC:292.0997716922029\n",
      "ARIMA(2, 1, 0)x(2, 1, 0, 12)12 - AIC:126.86910500704955\n",
      "ARIMA(2, 1, 0)x(2, 1, 1, 12)12 - AIC:128.3247150447297\n",
      "ARIMA(2, 1, 0)x(2, 1, 2, 12)12 - AIC:130.17521996033344\n",
      "ARIMA(2, 1, 0)x(2, 2, 0, 12)12 - AIC:10.0\n",
      "ARIMA(2, 1, 0)x(2, 2, 1, 12)12 - AIC:12.0\n",
      "ARIMA(2, 1, 0)x(2, 2, 2, 12)12 - AIC:14.0\n",
      "ARIMA(2, 1, 1)x(0, 0, 0, 12)12 - AIC:653.7027592627534\n",
      "ARIMA(2, 1, 1)x(0, 0, 1, 12)12 - AIC:1173.1083908247745\n",
      "ARIMA(2, 1, 1)x(0, 0, 2, 12)12 - AIC:299.2076520073653\n",
      "ARIMA(2, 1, 1)x(0, 1, 0, 12)12 - AIC:461.5737182105414\n",
      "ARIMA(2, 1, 1)x(0, 1, 1, 12)12 - AIC:283.26647176282114\n",
      "ARIMA(2, 1, 1)x(0, 1, 2, 12)12 - AIC:126.19789518389994\n",
      "ARIMA(2, 1, 1)x(0, 2, 0, 12)12 - AIC:319.4751765735815\n",
      "ARIMA(2, 1, 1)x(0, 2, 1, 12)12 - AIC:124.42338572830856\n",
      "ARIMA(2, 1, 1)x(0, 2, 2, 12)12 - AIC:12.0\n",
      "ARIMA(2, 1, 1)x(1, 0, 0, 12)12 - AIC:457.9119800487564\n",
      "ARIMA(2, 1, 1)x(1, 0, 1, 12)12 - AIC:2067.292648824435\n",
      "ARIMA(2, 1, 1)x(1, 0, 2, 12)12 - AIC:291.23847248104556\n",
      "ARIMA(2, 1, 1)x(1, 1, 0, 12)12 - AIC:287.8557403107622\n",
      "ARIMA(2, 1, 1)x(1, 1, 1, 12)12 - AIC:285.26040109146476\n",
      "ARIMA(2, 1, 1)x(1, 1, 2, 12)12 - AIC:128.34197744816373\n",
      "ARIMA(2, 1, 1)x(1, 2, 0, 12)12 - AIC:124.67847871677797\n",
      "ARIMA(2, 1, 1)x(1, 2, 1, 12)12 - AIC:130.9485655669141\n",
      "ARIMA(2, 1, 1)x(1, 2, 2, 12)12 - AIC:14.0\n",
      "ARIMA(2, 1, 1)x(2, 0, 0, 12)12 - AIC:287.8450931492834\n",
      "ARIMA(2, 1, 1)x(2, 0, 1, 12)12 - AIC:860.2514724540506\n",
      "ARIMA(2, 1, 1)x(2, 0, 2, 12)12 - AIC:294.0826289629099\n",
      "ARIMA(2, 1, 1)x(2, 1, 0, 12)12 - AIC:126.32876516861253\n",
      "ARIMA(2, 1, 1)x(2, 1, 1, 12)12 - AIC:128.10377051040996\n",
      "ARIMA(2, 1, 1)x(2, 1, 2, 12)12 - AIC:130.38994630339045\n",
      "ARIMA(2, 1, 1)x(2, 2, 0, 12)12 - AIC:12.0\n",
      "ARIMA(2, 1, 1)x(2, 2, 1, 12)12 - AIC:14.0\n",
      "ARIMA(2, 1, 1)x(2, 2, 2, 12)12 - AIC:16.0\n",
      "ARIMA(2, 1, 2)x(0, 0, 0, 12)12 - AIC:642.1210464556478\n",
      "ARIMA(2, 1, 2)x(0, 0, 1, 12)12 - AIC:1881.8770236270877\n",
      "ARIMA(2, 1, 2)x(0, 0, 2, 12)12 - AIC:282.87665526228903\n",
      "ARIMA(2, 1, 2)x(0, 1, 0, 12)12 - AIC:450.07118888769935\n",
      "ARIMA(2, 1, 2)x(0, 1, 1, 12)12 - AIC:269.7604056427287\n",
      "ARIMA(2, 1, 2)x(0, 1, 2, 12)12 - AIC:112.63703438766647\n",
      "ARIMA(2, 1, 2)x(0, 2, 0, 12)12 - AIC:305.94451673245277\n",
      "ARIMA(2, 1, 2)x(0, 2, 1, 12)12 - AIC:106.12234897380182\n",
      "ARIMA(2, 1, 2)x(0, 2, 2, 12)12 - AIC:14.0\n",
      "ARIMA(2, 1, 2)x(1, 0, 0, 12)12 - AIC:459.0451067821459\n",
      "ARIMA(2, 1, 2)x(1, 0, 1, 12)12 - AIC:822.1561075598365\n",
      "ARIMA(2, 1, 2)x(1, 0, 2, 12)12 - AIC:278.604543950503\n",
      "ARIMA(2, 1, 2)x(1, 1, 0, 12)12 - AIC:287.5623359599754\n",
      "ARIMA(2, 1, 2)x(1, 1, 1, 12)12 - AIC:275.0028456537153\n",
      "ARIMA(2, 1, 2)x(1, 1, 2, 12)12 - AIC:112.90813462686793\n",
      "ARIMA(2, 1, 2)x(1, 2, 0, 12)12 - AIC:126.03535669328116\n",
      "ARIMA(2, 1, 2)x(1, 2, 1, 12)12 - AIC:120.35224154059223\n",
      "ARIMA(2, 1, 2)x(1, 2, 2, 12)12 - AIC:16.0\n",
      "ARIMA(2, 1, 2)x(2, 0, 0, 12)12 - AIC:288.57203848603973\n",
      "ARIMA(2, 1, 2)x(2, 0, 1, 12)12 - AIC:816.8634986565086\n",
      "ARIMA(2, 1, 2)x(2, 0, 2, 12)12 - AIC:280.47314731091603\n",
      "ARIMA(2, 1, 2)x(2, 1, 0, 12)12 - AIC:127.9117413064428\n",
      "ARIMA(2, 1, 2)x(2, 1, 1, 12)12 - AIC:133.4228877317389\n",
      "ARIMA(2, 1, 2)x(2, 1, 2, 12)12 - AIC:115.95857751495114\n",
      "ARIMA(2, 1, 2)x(2, 2, 0, 12)12 - AIC:14.0\n",
      "ARIMA(2, 1, 2)x(2, 2, 1, 12)12 - AIC:16.0\n",
      "ARIMA(2, 1, 2)x(2, 2, 2, 12)12 - AIC:18.0\n",
      "ARIMA(2, 2, 0)x(0, 0, 0, 12)12 - AIC:656.929182124119\n",
      "ARIMA(2, 2, 0)x(0, 0, 1, 12)12 - AIC:1178.2218367739258\n",
      "ARIMA(2, 2, 0)x(0, 0, 2, 12)12 - AIC:303.76095384822\n",
      "ARIMA(2, 2, 0)x(0, 1, 0, 12)12 - AIC:467.74561119176593\n",
      "ARIMA(2, 2, 0)x(0, 1, 1, 12)12 - AIC:296.62162647962896\n",
      "ARIMA(2, 2, 0)x(0, 1, 2, 12)12 - AIC:131.1310933268147\n",
      "ARIMA(2, 2, 0)x(0, 2, 0, 12)12 - AIC:311.69952051933984\n",
      "ARIMA(2, 2, 0)x(0, 2, 1, 12)12 - AIC:130.6143668945789\n",
      "ARIMA(2, 2, 0)x(0, 2, 2, 12)12 - AIC:10.0\n",
      "ARIMA(2, 2, 0)x(1, 0, 0, 12)12 - AIC:464.76088503900036\n",
      "ARIMA(2, 2, 0)x(1, 0, 1, 12)12 - AIC:1243.814642053213\n",
      "ARIMA(2, 2, 0)x(1, 0, 2, 12)12 - AIC:301.2198031342222\n",
      "ARIMA(2, 2, 0)x(1, 1, 0, 12)12 - AIC:286.0955354148098\n",
      "ARIMA(2, 2, 0)x(1, 1, 1, 12)12 - AIC:285.32792061899414\n",
      "ARIMA(2, 2, 0)x(1, 1, 2, 12)12 - AIC:133.17934285762576\n",
      "ARIMA(2, 2, 0)x(1, 2, 0, 12)12 - AIC:117.90430574030188\n",
      "ARIMA(2, 2, 0)x(1, 2, 1, 12)12 - AIC:118.99296449685758\n",
      "ARIMA(2, 2, 0)x(1, 2, 2, 12)12 - AIC:12.0\n",
      "ARIMA(2, 2, 0)x(2, 0, 0, 12)12 - AIC:283.15554858393716\n",
      "ARIMA(2, 2, 0)x(2, 0, 1, 12)12 - AIC:804.0344904676059\n",
      "ARIMA(2, 2, 0)x(2, 0, 2, 12)12 - AIC:286.83156726823563\n",
      "ARIMA(2, 2, 0)x(2, 1, 0, 12)12 - AIC:117.49144309453314\n",
      "ARIMA(2, 2, 0)x(2, 1, 1, 12)12 - AIC:118.96814936747373\n",
      "ARIMA(2, 2, 0)x(2, 1, 2, 12)12 - AIC:120.29539957610731\n",
      "ARIMA(2, 2, 0)x(2, 2, 0, 12)12 - AIC:10.0\n",
      "ARIMA(2, 2, 0)x(2, 2, 1, 12)12 - AIC:12.0\n",
      "ARIMA(2, 2, 0)x(2, 2, 2, 12)12 - AIC:14.0\n",
      "ARIMA(2, 2, 1)x(0, 0, 0, 12)12 - AIC:643.7507440372441\n",
      "ARIMA(2, 2, 1)x(0, 0, 1, 12)12 - AIC:1394.380873084863\n",
      "ARIMA(2, 2, 1)x(0, 0, 2, 12)12 - AIC:286.07719017509777\n",
      "ARIMA(2, 2, 1)x(0, 1, 0, 12)12 - AIC:457.7096702182394\n",
      "ARIMA(2, 2, 1)x(0, 1, 1, 12)12 - AIC:278.90521215954385\n",
      "ARIMA(2, 2, 1)x(0, 1, 2, 12)12 - AIC:115.89357127313019\n",
      "ARIMA(2, 2, 1)x(0, 2, 0, 12)12 - AIC:309.3853855182138\n",
      "ARIMA(2, 2, 1)x(0, 2, 1, 12)12 - AIC:118.6819560218503\n",
      "ARIMA(2, 2, 1)x(0, 2, 2, 12)12 - AIC:12.0\n",
      "ARIMA(2, 2, 1)x(1, 0, 0, 12)12 - AIC:455.0965992766255\n",
      "ARIMA(2, 2, 1)x(1, 0, 1, 12)12 - AIC:2192.722205120287\n",
      "ARIMA(2, 2, 1)x(1, 0, 2, 12)12 - AIC:283.5164880425884\n",
      "ARIMA(2, 2, 1)x(1, 1, 0, 12)12 - AIC:279.45199079149944\n",
      "ARIMA(2, 2, 1)x(1, 1, 1, 12)12 - AIC:280.8718624801529\n",
      "ARIMA(2, 2, 1)x(1, 1, 2, 12)12 - AIC:117.81301664951579\n",
      "ARIMA(2, 2, 1)x(1, 2, 0, 12)12 - AIC:117.3599606601087\n",
      "ARIMA(2, 2, 1)x(1, 2, 1, 12)12 - AIC:124.25909424242752\n",
      "ARIMA(2, 2, 1)x(1, 2, 2, 12)12 - AIC:14.0\n",
      "ARIMA(2, 2, 1)x(2, 0, 0, 12)12 - AIC:279.4551139176185\n",
      "ARIMA(2, 2, 1)x(2, 0, 1, 12)12 - AIC:773.9635702371851\n",
      "ARIMA(2, 2, 1)x(2, 0, 2, 12)12 - AIC:282.82732449976385\n",
      "ARIMA(2, 2, 1)x(2, 1, 0, 12)12 - AIC:116.26597476045342\n",
      "ARIMA(2, 2, 1)x(2, 1, 1, 12)12 - AIC:118.18228031988333\n",
      "ARIMA(2, 2, 1)x(2, 1, 2, 12)12 - AIC:119.86308123171014\n",
      "ARIMA(2, 2, 1)x(2, 2, 0, 12)12 - AIC:12.0\n",
      "ARIMA(2, 2, 1)x(2, 2, 1, 12)12 - AIC:14.0\n",
      "ARIMA(2, 2, 1)x(2, 2, 2, 12)12 - AIC:16.0\n",
      "ARIMA(2, 2, 2)x(0, 0, 0, 12)12 - AIC:631.267887579282\n",
      "ARIMA(2, 2, 2)x(0, 0, 1, 12)12 - AIC:362.52911702625573\n",
      "ARIMA(2, 2, 2)x(0, 0, 2, 12)12 - AIC:273.3183942220483\n",
      "ARIMA(2, 2, 2)x(0, 1, 0, 12)12 - AIC:445.2459924122596\n",
      "ARIMA(2, 2, 2)x(0, 1, 1, 12)12 - AIC:264.3534421496714\n",
      "ARIMA(2, 2, 2)x(0, 1, 2, 12)12 - AIC:103.44932879221003\n",
      "ARIMA(2, 2, 2)x(0, 2, 0, 12)12 - AIC:296.4650356310683\n",
      "ARIMA(2, 2, 2)x(0, 2, 1, 12)12 - AIC:99.60261247434971\n",
      "ARIMA(2, 2, 2)x(0, 2, 2, 12)12 - AIC:14.0\n",
      "ARIMA(2, 2, 2)x(1, 0, 0, 12)12 - AIC:452.3140180937237\n",
      "ARIMA(2, 2, 2)x(1, 0, 1, 12)12 - AIC:2348.49277739785\n",
      "ARIMA(2, 2, 2)x(1, 0, 2, 12)12 - AIC:273.43923818787493\n",
      "ARIMA(2, 2, 2)x(1, 1, 0, 12)12 - AIC:281.44499476820647\n",
      "ARIMA(2, 2, 2)x(1, 1, 1, 12)12 - AIC:267.16908056853526\n",
      "ARIMA(2, 2, 2)x(1, 1, 2, 12)12 - AIC:104.97298384624911\n",
      "ARIMA(2, 2, 2)x(1, 2, 0, 12)12 - AIC:115.79514918757066\n",
      "ARIMA(2, 2, 2)x(1, 2, 1, 12)12 - AIC:109.15277013882087\n",
      "ARIMA(2, 2, 2)x(1, 2, 2, 12)12 - AIC:16.0\n",
      "ARIMA(2, 2, 2)x(2, 0, 0, 12)12 - AIC:281.3174676911068\n",
      "ARIMA(2, 2, 2)x(2, 0, 1, 12)12 - AIC:820.3395462097017\n",
      "ARIMA(2, 2, 2)x(2, 0, 2, 12)12 - AIC:273.49227182627766\n",
      "ARIMA(2, 2, 2)x(2, 1, 0, 12)12 - AIC:119.41112242015086\n",
      "ARIMA(2, 2, 2)x(2, 1, 1, 12)12 - AIC:120.64881996826267\n",
      "ARIMA(2, 2, 2)x(2, 1, 2, 12)12 - AIC:111.44027064594295\n",
      "ARIMA(2, 2, 2)x(2, 2, 0, 12)12 - AIC:14.0\n",
      "ARIMA(2, 2, 2)x(2, 2, 1, 12)12 - AIC:16.0\n",
      "ARIMA(2, 2, 2)x(2, 2, 2, 12)12 - AIC:18.0\n"
     ]
    }
   ],
   "source": [
    "from pylab import rcParams\n",
    "for param in pdq:\n",
    "    for param_seasonal in seasonal_pdq:\n",
    "        try:\n",
    "            mod = sm.tsa.statespace.SARIMAX(y, order=param,\n",
    "seasonal_order=param_seasonal,\n",
    "enforce_stationarity=False, \n",
    "enforce_invertibility=False)\n",
    "            results = mod.fit()\n",
    "            print('ARIMA{}x{}12 - AIC:{}'.format(param, param_seasonal, results.aic))\n",
    "        except:\n",
    "            continue"
   ]
  },
  {
   "cell_type": "code",
   "execution_count": null,
   "metadata": {},
   "outputs": [],
   "source": [
    "We are selecting those parameter which has minimum AIC score"
   ]
  },
  {
   "cell_type": "markdown",
   "metadata": {},
   "source": [
    "# 5.2 Fitting the ARIMA mode"
   ]
  },
  {
   "cell_type": "code",
   "execution_count": 52,
   "metadata": {
    "colab": {},
    "colab_type": "code",
    "id": "bU7QKiBr2fJh",
    "outputId": "5d9df1cf-cafa-4005-b817-c4da77e73e10"
   },
   "outputs": [
    {
     "name": "stdout",
     "output_type": "stream",
     "text": [
      "==============================================================================\n",
      "                 coef    std err          z      P>|z|      [0.025      0.975]\n",
      "------------------------------------------------------------------------------\n",
      "ar.L1         -0.8072      0.120     -6.707      0.000      -1.043      -0.571\n",
      "ma.L1         -3.2233      0.042    -76.626      0.000      -3.306      -3.141\n",
      "ma.S.L12   -1.127e+14      0.000  -1.04e+18      0.000   -1.13e+14   -1.13e+14\n",
      "sigma2      1.128e+05   5.26e+04      2.145      0.032    9711.458    2.16e+05\n",
      "==============================================================================\n"
     ]
    }
   ],
   "source": [
    "mod = sm.tsa.statespace.SARIMAX(y,\n",
    "                                order=(1, 1, 1),\n",
    "                                seasonal_order=(0, 0, 1, 12),\n",
    "                                enforce_stationarity=False,\n",
    "                                enforce_invertibility=False)\n",
    "results = mod.fit()\n",
    "print(results.summary().tables[1])"
   ]
  },
  {
   "cell_type": "markdown",
   "metadata": {},
   "source": [
    " # Running model diagnostiscs to check any unusual behaviour\n",
    "1. If the model is correctly specified and the parameter estimates are reasonably close to the true values, then the residuals should have nearly the properties of white noise.\n",
    "\n",
    "\n",
    "2. Plots can be used to better understand the distribution of errors beyond summary statistics. We would expect the forecast errors to be normally distributed around a zero mean.\n",
    "\n",
    "\n",
    "3. The Q-Q plot can be used to quickly check the normality of the distribution of residual errors.\n",
    "\n",
    "\n",
    "4. Finally, visualizing the autocorrelation for the residual errors. The x-axis shows the lag and the y-axis shows the correlation between an observation and the lag variable, where correlation values are between -1 and 1 for negative and positive correlations respectively. We would not expect there to be any correlation between the residuals. This would be shown by autocorrelation scores being below the threshold of significance (dashed and dotted horizontal lines on the plot)."
   ]
  },
  {
   "cell_type": "code",
   "execution_count": 51,
   "metadata": {
    "colab": {},
    "colab_type": "code",
    "id": "H0NF5nNb2fJr",
    "outputId": "f42c1539-2eea-4b8e-df15-4a89d8172595"
   },
   "outputs": [
    {
     "data": {
      "image/png": "[encoded data removed]",
      "text/plain": [
       "<Figure size 1152x576 with 4 Axes>"
      ]
     },
     "metadata": {},
     "output_type": "display_data"
    }
   ],
   "source": [
    "results.plot_diagnostics(figsize=(16, 8))\n",
    "plt.show()"
   ]
  },
  {
   "cell_type": "markdown",
   "metadata": {
    "colab_type": "text",
    "id": "E4srBUL22fJy"
   },
   "source": [
    "Standardized Residual : The residuals scatters around a mean near zero, as they should, with no obvious trends or patterns indicating misspecification.\n",
    "\n",
    "Histogram plus estimated density: The data distribution is nearly normal.\n",
    "\n",
    "Normal Q-Q : The plots show sample quantiles versus theoretical quantiles. Those are the quantiles from the standard Normal distribution with mean 0 and standard deviation 1. The points seem to fall about a straight line. This graphs to help us assess if a set of data plausibly came from some theoretical distribution such as a Normal or exponential\n",
    "\n",
    "Correlogram : There is no evidence of autocorrelation outside of the Bartlett two-standard-error bands for white noise, given by the blue lines.\n",
    "\n",
    "The model diagnostics indicates that the model residuals are near normally distributed"
   ]
  },
  {
   "cell_type": "markdown",
   "metadata": {},
   "source": [
    "## 5.3 Validating Forecasts\n",
    "We compare predicted sales to real sales of the time series to understand the accuracy of our forecasts"
   ]
  },
  {
   "cell_type": "code",
   "execution_count": 52,
   "metadata": {
    "colab": {},
    "colab_type": "code",
    "id": "BNJDOVYz2fJ0",
    "outputId": "d1de817d-8fff-4be7-ce20-60fc0d351972"
   },
   "outputs": [
    {
     "data": {
      "image/png": "[encoded data removed]",
      "text/plain": [
       "<Figure size 1008x504 with 1 Axes>"
      ]
     },
     "metadata": {},
     "output_type": "display_data"
    }
   ],
   "source": [
    "#set forecasts to start at 2017–01–01 to the end of the data to forecast\n",
    "pred = results.get_prediction(start=pd.to_datetime('2017-01-01'), dynamic=False)\n",
    "pred_ci = pred.conf_int()\n",
    "ax = y['2014':].plot(label='observed')\n",
    "pred.predicted_mean.plot(ax=ax, label='One-step ahead Forecast', alpha=.7, figsize=(14, 7))\n",
    "ax.fill_between(pred_ci.index,\n",
    "                pred_ci.iloc[:, 0],\n",
    "                pred_ci.iloc[:, 1], color='k', alpha=.2)\n",
    "ax.set_xlabel('Date')\n",
    "ax.set_ylabel('Furniture Sales')\n",
    "plt.legend()\n",
    "plt.show()"
   ]
  },
  {
   "cell_type": "markdown",
   "metadata": {
    "colab_type": "text",
    "id": "CSGlENov2fJ8"
   },
   "source": [
    "The above plot indicates the observed value and the rolling forecast predications (A rolling forecast is an add/drop process for predicting the future over a set period of time). The predicated values align well with the true values."
   ]
  },
  {
   "cell_type": "markdown",
   "metadata": {},
   "source": [
    "# 5.4 Calculating MSE and RMSE"
   ]
  },
  {
   "cell_type": "code",
   "execution_count": 53,
   "metadata": {
    "colab": {},
    "colab_type": "code",
    "id": "l_inrbyg2fKA",
    "outputId": "af7e7917-f49b-4f2f-95a8-bf86f6f52fa4"
   },
   "outputs": [
    {
     "name": "stdout",
     "output_type": "stream",
     "text": [
      "The Root Mean Squared Error of our forecasts is 337004896383.58\n"
     ]
    }
   ],
   "source": [
    "y_forecasted = pred.predicted_mean\n",
    "y_truth = y['2017-01-01':]\n",
    "mse = ((y_forecasted - y_truth) ** 2).mean()\n",
    "print('The Root Mean Squared Error of our forecasts is {}'.format(round(np.sqrt(mse), 2)))"
   ]
  },
  {
   "cell_type": "markdown",
   "metadata": {
    "colab_type": "text",
    "id": "p2NhU9-w2fKH"
   },
   "source": [
    "RMSE tells us that our model was able to forecast the average daily furniture sales in the test set within 151.64 of the real sales."
   ]
  },
  {
   "cell_type": "raw",
   "metadata": {},
   "source": [
    "MSE measures the average of the squares of the errors of an estimator i.e. the average squared difference between the estimated values and what is estimated. RMSE tells us that our model was able to forecast the average daily furniture sales in the test set within 160.34 of the real sales."
   ]
  },
  {
   "cell_type": "markdown",
   "metadata": {},
   "source": [
    " # 5.5 Visualizing the Forecast"
   ]
  },
  {
   "cell_type": "code",
   "execution_count": 54,
   "metadata": {
    "colab": {},
    "colab_type": "code",
    "id": "GnWUtUv72fKL",
    "outputId": "6e0e17a3-3d8d-4639-a943-e6d44ddd729b"
   },
   "outputs": [
    {
     "name": "stdout",
     "output_type": "stream",
     "text": [
      "             lower Sales   upper Sales\n",
      "2018-01-01 -1.945637e+17  1.945637e+17\n",
      "2018-02-01 -1.947173e+17  1.947173e+17\n",
      "2018-03-01 -2.329662e+17  2.329662e+17\n",
      "2018-04-01 -2.358802e+17  2.358802e+17\n",
      "2018-05-01 -2.554023e+17  2.554023e+17\n",
      "2018-06-01 -2.616974e+17  2.616974e+17\n",
      "2018-07-01 -2.749898e+17  2.749898e+17\n",
      "2018-08-01 -2.828193e+17  2.828193e+17\n",
      "2018-09-01 -2.934865e+17  2.934865e+17\n",
      "2018-10-01 -3.017529e+17  3.017529e+17\n",
      "2018-11-01 -3.110996e+17  3.110996e+17\n",
      "2018-12-01 -3.193162e+17  3.193162e+17\n",
      "2019-01-01 -3.278829e+17  3.278829e+17\n"
     ]
    },
    {
     "data": {
      "image/png": "[encoded data removed]",
      "text/plain": [
       "<Figure size 1008x504 with 1 Axes>"
      ]
     },
     "metadata": {},
     "output_type": "display_data"
    }
   ],
   "source": [
    "pred_uc = results.get_forecast(steps=13)\n",
    "pred_ci = pred_uc.conf_int()\n",
    "ax = y.plot(label='observed', figsize=(14, 7))\n",
    "pred_uc.predicted_mean.plot(ax=ax, label='Forecast')\n",
    "ax.fill_between(pred_ci.index,\n",
    "                pred_ci.iloc[:, 0],\n",
    "                pred_ci.iloc[:, 1], color='k', alpha=.25)\n",
    "ax.set_xlabel('Date')\n",
    "ax.set_ylabel('Furniture Sales')\n",
    "print(pred_ci)\n",
    "plt.legend()\n",
    "plt.show()"
   ]
  },
  {
   "cell_type": "markdown",
   "metadata": {},
   "source": [
    "# 6.Conclusion"
   ]
  },
  {
   "cell_type": "raw",
   "metadata": {},
   "source": [
    "\"The sales of furniture exhibit a distinct seasonal pattern, with the early months of the year marking an off-season for furniture sales in the superstore. Over the course of the year, furniture sales display a linear upward trend, indicating consistent growth as the year progresses.\""
   ]
  }
 ],
 "metadata": {
  "colab": {
   "name": "Forecasting and Predicting the Furniture Sales of  .ipynb",
   "provenance": [],
   "version": "0.3.2"
  },
  "kernelspec": {
   "display_name": "Python 3 (ipykernel)",
   "language": "python",
   "name": "python3"
  },
  "language_info": {
   "codemirror_mode": {
    "name": "ipython",
    "version": 3
   },
   "file_extension": ".py",
   "mimetype": "text/x-python",
   "name": "python",
   "nbconvert_exporter": "python",
   "pygments_lexer": "ipython3",
   "version": "3.12.4"
  }
 },
 "nbformat": 4,
 "nbformat_minor": 4
}
